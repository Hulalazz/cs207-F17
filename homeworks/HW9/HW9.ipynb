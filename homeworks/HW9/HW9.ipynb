{
 "cells": [
  {
   "cell_type": "markdown",
   "metadata": {},
   "source": [
    "# Homework 9: Parsing to XML"
   ]
  },
  {
   "cell_type": "markdown",
   "metadata": {},
   "source": [
    "This week's assignment is straightforward: read the NASA Polynomial dataset in raw format and parse and store the data into an .xml file."
   ]
  },
  {
   "cell_type": "markdown",
   "metadata": {},
   "source": [
    "You can find the NASA Polynomial file in `thermo.txt`.\n",
    "\n",
    "You can find the NASA Polynomial format details [at this site](http://combustion.berkeley.edu/gri_mech/data/nasa_plnm.html):\n",
    "\n",
    "\n",
    "The NASA polynomials have the form:\n",
    "$$\n",
    "    \\frac{Cp}{R}= a_1 + a_2 T + a_3 T^2 + a_4 T^3 + a_5 T^4\n",
    "$$\n",
    "\n",
    "$$\n",
    "    \\frac{H}{RT} = a_1 + a_2 \\frac{T}{2} + a_3 \\frac{T^2}{3} + a_4 \\frac{T^3}{4} + a_5 \\frac{T^4}{5} + \\frac{a_6}{T}\n",
    "$$\n",
    "\n",
    "$$\n",
    "    \\frac{S}{R}  = a_1 ln(T) + a_2 T + a_3 \\frac{T^2}{2} + a_4 \\frac{T^3}{3} + a_5 \\frac{T^4}{4} + a_7\n",
    "$$\n",
    "\n",
    "where $a_1$, $a_2$, $a_3$, $a_4$, $a_5$, $a_6$, and $a_7$ are the numerical coefficients supplied in NASA thermodynamic files. The first 7 numbers starting on the second line of each species entry (five of the second line and the first two of the third line) are the seven coefficients ($a_1$ through $a_7$, respectively) for the high-temperature range (above 1000 K, the upper boundary is specified on the first line of the species entry). The following seven numbers are the coefficients ($a_1$ through $a_7$, respectively) for the low-temperature range (below 1000 K, the lower boundary is specified on the first line of the species entry)."
   ]
  },
  {
   "cell_type": "markdown",
   "metadata": {},
   "source": [
    "Your final .xml file should contain the following specifications:\n",
    "\n",
    "1. A `speciesArray` field that contains a space-separated list of all of the species present in the file.\n",
    "2. Each species contains a `species` field with a `name` attribute as the species name.\n",
    "    A. For each temperature range, use a sub-field with the minimum and maximum temperature as attributes.\n",
    "    B. A `floatArray` field that contains comma-separated string of each coefficient.\n",
    "    \n",
    "You can reference the `example_thermo.xml` file for an example .xml output."
   ]
  },
  {
   "cell_type": "markdown",
   "metadata": {},
   "source": [
    "**Hint**: First parse the file into a Python dictionary. "
   ]
  },
  {
   "cell_type": "code",
   "execution_count": null,
   "metadata": {
    "collapsed": true
   },
   "outputs": [],
   "source": []
  }
 ],
 "metadata": {
  "kernelspec": {
   "display_name": "Python 2",
   "language": "python",
   "name": "python2"
  },
  "language_info": {
   "codemirror_mode": {
    "name": "ipython",
    "version": 2
   },
   "file_extension": ".py",
   "mimetype": "text/x-python",
   "name": "python",
   "nbconvert_exporter": "python",
   "pygments_lexer": "ipython2",
   "version": "2.7.10"
  }
 },
 "nbformat": 4,
 "nbformat_minor": 1
}
