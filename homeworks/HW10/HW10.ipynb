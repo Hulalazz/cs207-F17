{
 "cells": [
  {
   "cell_type": "markdown",
   "metadata": {},
   "source": [
    "# Homework 10: SQL "
   ]
  },
  {
   "cell_type": "markdown",
   "metadata": {},
   "source": [
    "# Question 1: Convert XML to a SQL database"
   ]
  },
  {
   "cell_type": "markdown",
   "metadata": {},
   "source": [
    "Create two tables named `LOW` and `HIGH`, each corresponding to data given for the low and high temperature range.\n",
    "Each should have the following column names:\n",
    "\n",
    "- `SPECIES_NAME`\n",
    "- `TEMP`\n",
    "- `COEFF_1`\n",
    "- `COEFF_2`\n",
    "- `COEFF_3`\n",
    "- `COEFF_4`\n",
    "- `COEFF_5`\n",
    "- `COEFF_6`\n",
    "- `COEFF_7`\n",
    "\n",
    "Populate the tables using the XML file you created in last assignment. If you did not complete the last assignment, you may also use the `example_thermo.xml` file.\n",
    "\n",
    "TEMP should refer to the temperature at the low range for `LOW`, and the high range for `HIGH`.\n",
    "\n",
    "For both tables, `COEFF_1` through `COEFF_7` should be populated with the corresponding coefficients for the low temperature data and high temperature data."
   ]
  },
  {
   "cell_type": "markdown",
   "metadata": {},
   "source": [
    "# Question 2: Where Statements"
   ]
  },
  {
   "cell_type": "markdown",
   "metadata": {},
   "source": [
    "1. Write a python function __get_coeffs__ that returns an array of 7 coefficients.\n",
    "The function should take in two parameters: species_name, and temp_range, an indicator variable ('low' or 'high') to indicate whether the coefficients should come from the low or high temperature range.\n",
    "\n",
    "The function should use SQL commands and where statements on the table you just created (rather than taking data from the XML directly)."
   ]
  },
  {
   "cell_type": "code",
   "execution_count": null,
   "metadata": {
    "collapsed": true
   },
   "outputs": [],
   "source": [
    "def get_coeffs(species_name, temp_range):\n",
    "    ''' Fill in here'''\n",
    "    return coeffs"
   ]
  },
  {
   "cell_type": "markdown",
   "metadata": {},
   "source": [
    "`2`. Write a python function __get_species__ that returns all species that have a temperature range above or below a given value. The function should take in two parameters: temp and temp_range, and indicator variable ('low' or 'high').\n",
    "\n",
    "When temp_range is 'low', we are looking for species with a temperature range lower than the given temperature, and for a 'high' temp_range, we want species with a temperature range higher than the given temperature.\n",
    "\n",
    "And as before, you should accomplish this through SQL queries and where statements.\n"
   ]
  },
  {
   "cell_type": "code",
   "execution_count": 1,
   "metadata": {
    "collapsed": true
   },
   "outputs": [],
   "source": [
    "def get_species(temp, temp_range):\n",
    "    ''' Fill in here'''\n",
    "    return coeffs"
   ]
  },
  {
   "cell_type": "markdown",
   "metadata": {},
   "source": [
    "# Question 3: JOIN STATEMENTS"
   ]
  },
  {
   "cell_type": "markdown",
   "metadata": {},
   "source": [
    "Create a table named `ALL_TEMPS` that has the following columns:\n",
    "\n",
    "- `SPECIES_NAME`\n",
    "- `TEMP_LOW`\n",
    "- `TEMP_HIGH`\n",
    "\n",
    "This table should be created by joining the tables `LOW` and `HIGH` on the value `SPECIES_NAME`."
   ]
  },
  {
   "cell_type": "markdown",
   "metadata": {},
   "source": [
    "1. Write a python function __get_range__ that returns the range of temperatures for a given species_name.\n",
    "\n",
    "The range should be computed within the SQL query (ie. you should subtract within the `SELECT` statement in the SQL query)."
   ]
  },
  {
   "cell_type": "code",
   "execution_count": null,
   "metadata": {
    "collapsed": true
   },
   "outputs": [],
   "source": [
    "def get_range(species_name):\n",
    "    '''Fill in here'''\n",
    "    return range"
   ]
  }
 ],
 "metadata": {
  "kernelspec": {
   "display_name": "Python 2",
   "language": "python",
   "name": "python2"
  },
  "language_info": {
   "codemirror_mode": {
    "name": "ipython",
    "version": 2
   },
   "file_extension": ".py",
   "mimetype": "text/x-python",
   "name": "python",
   "nbconvert_exporter": "python",
   "pygments_lexer": "ipython2",
   "version": "2.7.10"
  }
 },
 "nbformat": 4,
 "nbformat_minor": 2
}
