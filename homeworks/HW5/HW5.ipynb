{
 "cells": [
  {
   "cell_type": "markdown",
   "metadata": {},
   "source": [
    "# Problem 1\n",
    "We discussed documentation and testing in lecture and also briefly touched on code coverage.  You must write tests for your code for your final project (and in life).  There is a nice way to automate the testing process called continuous integration (CI).\n",
    "\n",
    "This problem will walk you through the basics of CI and show you how to get up and running with some CI software."
   ]
  },
  {
   "cell_type": "markdown",
   "metadata": {},
   "source": [
    "### Continuous Integration\n",
    "The idea behind continuous integration is to automate away the testing of your code.\n",
    "\n",
    "We will be using it for our projects.\n",
    "\n",
    "The basic workflow goes something like this:\n",
    "\n",
    "1. You work on your part of the code in your own branch or fork\n",
    "2. On every commit you make and push to GitHub, your code is automatically tested on a fresh machine on Travis CI. This ensures that there are no specific dependencies on the structure of your machine that your code needs to run and also ensures that your changes are sane\n",
    "3. Now you submit a pull request to `master` in the main repo (the one you're hoping to contribute to). The repo manager creates a branch off `master`. \n",
    "4. This branch is also set to run tests on Travis. If all tests pass, then the pull request is accepted and your code becomes part of master.\n",
    "\n",
    "We use GitHub to integrate our roots library with Travis CI and Coveralls. Note that this is not the only workflow people use. Google git..github..workflow and feel free to choose another one for your group. Document your workflow on your project's README."
   ]
  },
  {
   "cell_type": "markdown",
   "metadata": {},
   "source": [
    "### Part 1:  Create a repo\n",
    "Create a public GitHub repo called `cs207test` and clone it to your local machine.\n",
    "\n",
    "**Note:** No need to do this in Jupyter."
   ]
  },
  {
   "cell_type": "markdown",
   "metadata": {},
   "source": [
    "### Part 2:  Create a roots library\n",
    "Use the example from lecture to create a file called `roots.py`, which contains the `quad_roots` and `linear_roots` functions (along with their documentation).\n",
    "\n",
    "Also create a file called `test_roots.py`, which contains the tests from lecture.\n",
    "\n",
    "All of these files should be in your newly created `cs207test` repo.  **Don't push yet!!!**"
   ]
  },
  {
   "cell_type": "markdown",
   "metadata": {},
   "source": [
    "### Part 3:  Create an account on Travis CI and Start Building\n",
    "\n",
    "#### Part A:\n",
    "Create an account on Travis CI and set your `cs207test` repo up for continuous integration once this repo can be seen on Travis.\n",
    "\n",
    "#### Part B:\n",
    "Create an instruction to Travis to make sure that\n",
    "\n",
    "1. python is installed\n",
    "2. its python 3.5\n",
    "3. pytest is installed\n",
    "\n",
    "The file should be called `.travis.yml` and should have the contents:\n",
    "```yml\n",
    "language: python\n",
    "python:\n",
    "    - \"3.5\"\n",
    "before_install:\n",
    "    - pip install pytest pytest-cov\n",
    "script:\n",
    "    - pytest\n",
    "```\n",
    "\n",
    "#### Part C:\n",
    "Push the new changes to your `cs207test` repo.\n",
    "\n",
    "At this point you should be able to see your build on Travis and if and how your tests pass."
   ]
  },
  {
   "cell_type": "markdown",
   "metadata": {},
   "source": [
    "### Part 4:  Coveralls Integration\n",
    "In class, we also discussed code coverage.  Just like Travis CI runs tests automatically for you, Coveralls automatically checks your code coverage.  One minor drawback of Coveralls is that it can only work with public GitHub accounts.  However, this isn't too big of a problem since your projects will be public.\n",
    "\n",
    "#### Part A:\n",
    "Create an account on [`Coveralls`](https://coveralls.zendesk.com/hc/en-us), connect your GitHub, and turn Coveralls integration on.\n",
    "\n",
    "#### Part B:\n",
    "Update your the `.travis.yml` file as follows:\n",
    "```yml\n",
    "language: python\n",
    "python:\n",
    "    - \"3.5\"\n",
    "before_install:\n",
    "    - pip install pytest pytest-cov\n",
    "    - pip install coveralls\n",
    "script:\n",
    "    - py.test\n",
    "after_success:\n",
    "    - coveralls\n",
    "```\n",
    "Be sure to push the latest changes to your new repo."
   ]
  },
  {
   "cell_type": "markdown",
   "metadata": {},
   "source": [
    "### Part 5:  Update README.md in repo\n",
    "You can have your GitHub repo reflect the build status on Travis CI and the code coverage status from Coveralls.  To do this, you should modify the `README.md` file in your repo to include some badges.  Put the following at the top of your `README.md` file:\n",
    "\n",
    "```\n",
    "[![Build Status](https://travis-ci.org/rahuldave/cs207test.svg?branch=master)](https://travis-ci.org/rahuldave/cs207test)\n",
    "\n",
    "[![Coverage Status](https://coveralls.io/repos/github/rahuldave/cs207test/badge.svg?branch=master)](https://coveralls.io/github/rahuldave/cs207test?branch=master)\n",
    "```\n",
    "\n",
    "Of course, you need to make sure that the links are to your repo and not mine."
   ]
  },
  {
   "cell_type": "markdown",
   "metadata": {},
   "source": [
    "---\n",
    "\n",
    "# Problem 2\n",
    "Write a Python module for reaction rate coefficients.  Your module should include functions for constant reaction rate coefficients, Arrhenius reaction rate coefficients, and modified Arrhenius reaction rate coefficients.  Here are their mathematical forms:\n",
    "\\begin{align}\n",
    "  &k_{\\textrm{const}}   = k \\tag{constant} \\\\\n",
    "  &k_{\\textrm{arr}}     = A \\exp\\left(-\\frac{E}{RT}\\right) \\tag{Arrhenius} \\\\\n",
    "  &k_{\\textrm{mod arr}} = A T^{b} \\exp\\left(-\\frac{E}{RT}\\right) \\tag{Modified Arrhenius}\n",
    "\\end{align}\n",
    "\n",
    "A few additional comments / suggestions:\n",
    "* The Arrhenius prefactor $A$ is strictly positive\n",
    "* The modified Arrhenius parameter $b$ must be real \n",
    "* $R = 8.314$ is the ideal gas constant.  It should never be changed (except to convert units)\n",
    "* The temperature $T$ must be positive (assuming a Kelvin scale)\n",
    "* You may assume that units are consistent\n",
    "* Document each function!\n",
    "* You might want to check for overflows and underflows\n",
    "\n",
    "**Recall:** A Python module is a `.py` file which is not part of the main execution script.  The module contains several functions which may be related to each other (like in this problem).  Your module will be importable via the execution script.  For example, suppose you have called your module `reaction_coeffs.py` and your execution script `kinetics.py`.  Inside of `kinetics.py` you will write something like:\n",
    "```python\n",
    "import reaction_coeffs\n",
    "# Some code to do some things\n",
    "# :\n",
    "# :\n",
    "# :\n",
    "# Time to use a reaction rate coefficient:\n",
    "reaction_coeffs.const() # Need appropriate arguments, etc\n",
    "# Continue on...\n",
    "# :\n",
    "# :\n",
    "# :\n",
    "```\n",
    "Be sure to include your module in the same directory as your execution script."
   ]
  },
  {
   "cell_type": "markdown",
   "metadata": {},
   "source": [
    "---\n",
    "\n",
    "# Problem 3\n",
    "Write a function that returns the progress rate for a biomolecular reaction of the following form:\n",
    "\\begin{align}\n",
    "  \\nu_{A} A + \\nu_{B} B \\longrightarrow \\nu_{C} C.\n",
    "\\end{align}\n",
    "You must document your function and write some tests.  You choose the tests, but you must have at least one doctest in addition to a suite of unit tests."
   ]
  },
  {
   "cell_type": "markdown",
   "metadata": {},
   "source": [
    "---\n",
    "# Problem 4\n",
    "Write a function that returns the reaction rate for a system of reactions of the following form:\n",
    "\\begin{align}\n",
    "  \\nu_{11}^{\\prime} A + \\nu_{21}^{\\prime} B \\longrightarrow \\nu_{31}^{\\prime} C \\\\\n",
    "  \\nu_{12}^{\\prime} A + \\nu_{32}^{\\prime} C \\longrightarrow \\nu_{22}^{\\prime\\prime} B + \\nu_{32}^{\\prime\\prime} C\n",
    "\\end{align}\n",
    "Note that $\\nu_{ij}^{\\prime}$ represents the stoichiometric coefficient of reactant $i$ in reaction $j$ and $\\nu_{ij}^{\\prime\\prime}$ represents the stoichiometric coefficient of product $i$ in reaction $j$.  Therefore, in this convention, I have ordered my vector of concentrations as $\\mathbf{x} = \\left(\\left[A\\right], \\left[B\\right], \\left[C\\right]\\right)$.\n",
    "\n",
    "You must document your function and write some tests.  You choose the tests, but you must have at least one doctest in addition to a suite of unit tests."
   ]
  },
  {
   "cell_type": "markdown",
   "metadata": {},
   "source": [
    "---\n",
    "# Problem 5\n",
    "Write a function that returns the reaction rate of a system of irreversible reactions of the form:\n",
    "\\begin{align}\n",
    "  \\nu_{11}^{\\prime} A + \\nu_{21}^{\\prime} B &\\longrightarrow \\nu_{31}^{\\prime} C \\\\\n",
    "  \\nu_{32}^{\\prime} C &\\longrightarrow \\nu_{22}^{\\prime\\prime} B + \\nu_{12}^{\\prime\\prime} A\n",
    "\\end{align}\n",
    "\n",
    "Once again $\\nu_{ij}^{\\prime}$ represents the stoichiometric coefficient of reactant $i$ in reaction $j$ and $\\nu_{ij}^{\\prime\\prime}$ represents the stoichiometric coefficient of product $i$ in reaction $j$.  In this convention, I have ordered my vector of concentrations as $\\mathbf{x} = \\left(\\left[A\\right], \\left[B\\right], \\left[C\\right]\\right)$.\n",
    "\n",
    "You must document your function and write some tests.  You choose the tests, but you must have at least one doctest in addition to a suite of unit tests."
   ]
  }
 ],
 "metadata": {
  "kernelspec": {
   "display_name": "Python 3",
   "language": "python",
   "name": "python3"
  },
  "language_info": {
   "codemirror_mode": {
    "name": "ipython",
    "version": 3
   },
   "file_extension": ".py",
   "mimetype": "text/x-python",
   "name": "python",
   "nbconvert_exporter": "python",
   "pygments_lexer": "ipython3",
   "version": "3.6.1"
  }
 },
 "nbformat": 4,
 "nbformat_minor": 2
}
