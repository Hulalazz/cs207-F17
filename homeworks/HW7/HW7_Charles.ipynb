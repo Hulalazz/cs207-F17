{
 "cells": [
  {
   "cell_type": "markdown",
   "metadata": {},
   "source": [
    "# Homework 7\n",
    "## Due Date:  Tuesday, October 24th at 11:59 PM"
   ]
  },
  {
   "cell_type": "markdown",
   "metadata": {},
   "source": [
    "## Charles\n",
    "\n",
    "### Part 1\n",
    "A binary search tree is a binary tree with the invariant that for any particular node the left child is smaller and the right child is larger. Create the class BinaryTree with the following specifications:\n",
    "\n",
    "\\_\\_init\\_\\_(self): Constructor takes no additional arguments\n",
    "\n",
    "insert(self, val): This method will insert val into the tree\n",
    "\n",
    "remove(self, val): This will remove the value from the tree. Upon removal the left child will take the place of the node if it exists, otherwise the right child. The subtree from the left or right child will propagate up in the same manner\n",
    "\n",
    "getValues(self. depth): Return a list of the entire row of nodes at the specified depth with None at the index if there is no value in the tree. The length of the list should therefore be 2^depth. "
   ]
  },
  {
   "cell_type": "code",
   "execution_count": 134,
   "metadata": {
    "collapsed": true
   },
   "outputs": [],
   "source": [
    "class BinaryTree:\n",
    "    def __init__(self):\n",
    "        self.data = [None]\n",
    "        \n",
    "    def insert(self, val):\n",
    "        # keep track of idx we're at traversing the tree\n",
    "        idx = 0\n",
    "        while self.data[idx] is not None:\n",
    "            idx = idx * 2 + (1 if self.data[idx] > val else 2)\n",
    "            if idx >= len(self.data):\n",
    "                self.data = self.data + [None]*(idx + 1 - len(self.data))\n",
    "        self.data[idx] = val\n",
    "        \n",
    "    def find(self, val):\n",
    "        idx = 0\n",
    "        while self.data[idx] is not None and self.data[idx] != val:\n",
    "            idx = idx * 2 + (1 if self.data[idx] > val else 2)\n",
    "            if len(self.data) <= idx:\n",
    "                return -1\n",
    "        return idx if self.data[idx] is not None else -1\n",
    "        \n",
    "    def remove(self, val):\n",
    "        # get idx of where val is\n",
    "        idx = self.find(val)\n",
    "        if idx >= 0:\n",
    "            self.levelUp(idx)\n",
    "    \n",
    "    def levelUp(self, idx):\n",
    "        self.data[idx] = None\n",
    "        leftChild = idx * 2 + 1\n",
    "        rightChild = (idx + 1) * 2\n",
    "        if len(self.data) > leftChild:\n",
    "            if self.data[leftChild] is not None:\n",
    "                self.data[idx] = self.data[leftChild]\n",
    "                self.levelUp(leftChild)\n",
    "            elif len(self.data) > rightChild and self.data[rightChild] is not None:\n",
    "                self.data[idx] = self.data[rightChild]\n",
    "                self.levelUp(rightChild)\n",
    "                \n",
    "    def getValues(self, level):\n",
    "        values = []\n",
    "        for x in range(2**level - 1, 2**(level + 1) - 1):\n",
    "            if len(self.data) <= x:\n",
    "                values.append(None)\n",
    "            else:\n",
    "                values.append(self.data[x])\n",
    "        return values"
   ]
  },
  {
   "cell_type": "code",
   "execution_count": 136,
   "metadata": {},
   "outputs": [
    {
     "name": "stdout",
     "output_type": "stream",
     "text": [
      "[5]\n",
      "[3, 8]\n",
      "[2, 4, None, None]\n",
      "[1, None, None, None, None, None, None, None]\n",
      "\n",
      "[5]\n",
      "[2, 8]\n",
      "[1, 4, None, None]\n",
      "[None, None, None, None, None, None, None, None]\n"
     ]
    }
   ],
   "source": [
    "b = BinaryTree()\n",
    "b.insert(5)\n",
    "b.insert(3)\n",
    "b.insert(8)\n",
    "b.insert(2)\n",
    "b.insert(1)\n",
    "b.insert(4)\n",
    "print(b.getValues(0))\n",
    "print(b.getValues(1))\n",
    "print(b.getValues(2))\n",
    "print(b.getValues(3))\n",
    "b.remove(3)\n",
    "print()\n",
    "print(b.getValues(0))\n",
    "print(b.getValues(1))\n",
    "print(b.getValues(2))\n",
    "print(b.getValues(3))"
   ]
  },
  {
   "cell_type": "markdown",
   "metadata": {},
   "source": [
    "### Part 2\n",
    "\n",
    "Now we will write an iterator class to traverse the tree. There are three different types of traversal: preorder, inorder, and postorder. The definitions are laid out [here](https://en.wikipedia.org/wiki/Tree_traversal#Depth-first_search)\n",
    "\n",
    "Write an iterator class DFSTraversal with the following specifications:\n",
    "\n",
    "\\_\\_init\\_\\_(self, tree, traversalType): Constructor takes a BinaryTree object and one of the enums from DFSTraversalTypes\n",
    "\n",
    "changeTraversalType(self, traversalType): Change the traversal type\n",
    "\n",
    "\\_\\_iter\\_\\_(self): This is the initialization of an iterator\n",
    "\n",
    "\\_\\_next\\_\\_(self): This is called in the iterator for getting the next value"
   ]
  },
  {
   "cell_type": "code",
   "execution_count": 22,
   "metadata": {
    "collapsed": true
   },
   "outputs": [],
   "source": [
    "from enum import Enum\n",
    "\n",
    "class DFSTraversalTypes(Enum):\n",
    "    PREORDER = 1\n",
    "    INORDER = 2\n",
    "    POSTORDER = 3"
   ]
  },
  {
   "cell_type": "code",
   "execution_count": 119,
   "metadata": {},
   "outputs": [],
   "source": [
    "class DFSTraversal:\n",
    "    def __init__(self, tree, traversalType):\n",
    "        self.tree = tree\n",
    "        self.traversalType = traversalType\n",
    "        self.visited = set()\n",
    "        \n",
    "    def changeTraversalType(self, traversalType):\n",
    "        self.traversalType = traversalType\n",
    "        \n",
    "    def __iter__(self):\n",
    "        # initialize idx to the proper starting position\n",
    "        idx = 0\n",
    "        data = self.tree.data\n",
    "        if self.traversalType != DFSTraversalTypes.PREORDER:\n",
    "            # get the leftmost node\n",
    "            while len(data) > idx*2 + 1 and data[idx*2 + 1] is not None:\n",
    "                idx = idx*2 + 1\n",
    "        self.idx = idx\n",
    "        self.visited = set()\n",
    "        return self\n",
    "\n",
    "    def __next__(self):\n",
    "        idx = self.idx\n",
    "        data = self.tree.data\n",
    "        if idx < 0 or len(data) <= idx or data[idx] is None:\n",
    "            raise StopIteration\n",
    "        leftIdx = idx * 2 + 1\n",
    "        rightIdx = (idx + 1) * 2\n",
    "        parentIdx = (idx - 1)//2\n",
    "        traversalType = self.traversalType\n",
    "        if traversalType == DFSTraversalTypes.PREORDER:\n",
    "            #preorder just returns node when you reach it\n",
    "            retVal = data[idx]\n",
    "            retIdx = idx\n",
    "            self.visited.add(retIdx)\n",
    "            # finding next node to go to\n",
    "            # if there's a left child then go there\n",
    "            if len(data) > leftIdx and data[leftIdx] is not None:\n",
    "                self.idx = leftIdx\n",
    "            # otherwise if there's a right child go there\n",
    "            elif len(data) > rightIdx and data[rightIdx] is not None:\n",
    "                self.idx = rightIdx\n",
    "            # otherwise have to do some backtracking\n",
    "            else:\n",
    "                # find the parent who has a right child that's unvisited\n",
    "                idx = parentIdx\n",
    "                while idx >= 0 and not ((idx + 1)*2 < len(data) and data[(idx + 1)*2] is not None and (idx + 1)*2 not in self.visited):\n",
    "                    idx = (idx - 1)//2\n",
    "                if idx < 0:\n",
    "                    self.idx = len(data)\n",
    "                else:\n",
    "                    self.idx = (idx + 1)*2\n",
    "            return retVal\n",
    "        elif traversalType == DFSTraversalTypes.INORDER:\n",
    "            retVal = data[idx]\n",
    "            retIdx = idx\n",
    "            # if we have a right child node then we need to traverse that side\n",
    "            if len(data) > rightIdx and data[rightIdx] is not None:\n",
    "                idx = rightIdx\n",
    "                while idx * 2 + 1 < len(data) and data[idx*2 + 1] is not None:\n",
    "                    idx = idx*2 + 1\n",
    "            else:\n",
    "                # otherwise we go to the next unvisited parent\n",
    "                idx = parentIdx\n",
    "                while idx >= 0 and idx in self.visited:\n",
    "                    idx = (idx - 1)//2\n",
    "            self.idx = idx\n",
    "            self.visited.add(retIdx)\n",
    "            return retVal\n",
    "        elif traversalType == DFSTraversalTypes.POSTORDER:\n",
    "            retVal = data[idx]\n",
    "            retIdx = idx\n",
    "            self.visited.add(retIdx)\n",
    "            # go to next unvisited parent\n",
    "            idx = parentIdx\n",
    "            rightChild = (idx + 1)*2\n",
    "            # if there is an unvisited right child, traverse down children of right child, otherwise parent is the next idx\n",
    "            if rightChild < len(data) and data[rightChild] is not None and rightChild not in self.visited:\n",
    "                idx = rightChild\n",
    "                leftChild = idx*2 + 1\n",
    "                rightChild = (idx + 1)*2\n",
    "                while (leftChild < len(data) and data[leftChild] is not None) or (rightChild < len(data) and data[rightChild] is not None):\n",
    "                    idx = leftChild if data[leftChild] is not None else rightChild\n",
    "                    leftChild = idx*2 + 1\n",
    "                    rightChild = (idx + 1)*2\n",
    "                self.idx = idx\n",
    "            self.idx = idx\n",
    "            return retVal"
   ]
  },
  {
   "cell_type": "markdown",
   "metadata": {},
   "source": [
    "### Part 3\n",
    "Put both classes in a file titled TreeTraversal.py"
   ]
  },
  {
   "cell_type": "code",
   "execution_count": 123,
   "metadata": {
    "collapsed": true
   },
   "outputs": [],
   "source": [
    "def testFunction(inputArr):\n",
    "    b = BinaryTree()\n",
    "    for val in inputArr:\n",
    "        b.insert(val)\n",
    "    traversal = DFSTraversal(b, DFSTraversalTypes.PREORDER)\n",
    "    traversalTrace = {}\n",
    "    for traversalType in DFSTraversalTypes:\n",
    "        traversal.changeTraversalType(traversalType)\n",
    "        traversalTrace[traversalType.name] = []\n",
    "        for val in traversal:\n",
    "            traversalTrace[traversalType.name].append(val)\n",
    "    return traversalTrace"
   ]
  },
  {
   "cell_type": "code",
   "execution_count": 126,
   "metadata": {},
   "outputs": [
    {
     "data": {
      "text/plain": [
       "{'INORDER': ['A', 'B', 'C', 'D', 'E', 'F', 'G', 'H', 'I'],\n",
       " 'POSTORDER': ['A', 'C', 'E', 'D', 'B', 'H', 'I', 'G', 'F'],\n",
       " 'PREORDER': ['F', 'B', 'A', 'D', 'C', 'E', 'G', 'I', 'H']}"
      ]
     },
     "execution_count": 126,
     "metadata": {},
     "output_type": "execute_result"
    }
   ],
   "source": [
    "#wikipedia example\n",
    "testFunction(['F', 'B', 'A', 'D', 'C', 'E', 'G', 'I', 'H'])"
   ]
  },
  {
   "cell_type": "code",
   "execution_count": null,
   "metadata": {
    "collapsed": true
   },
   "outputs": [],
   "source": []
  }
 ],
 "metadata": {
  "kernelspec": {
   "display_name": "Python 3",
   "language": "python",
   "name": "python3"
  },
  "language_info": {
   "codemirror_mode": {
    "name": "ipython",
    "version": 3
   },
   "file_extension": ".py",
   "mimetype": "text/x-python",
   "name": "python",
   "nbconvert_exporter": "python",
   "pygments_lexer": "ipython3",
   "version": "3.5.3"
  }
 },
 "nbformat": 4,
 "nbformat_minor": 2
}
