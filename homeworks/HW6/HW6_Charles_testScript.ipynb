{
 "cells": [
  {
   "cell_type": "code",
   "execution_count": 1,
   "metadata": {},
   "outputs": [],
   "source": [
    "from pathlib import Path\n",
    "import importlib.util\n",
    "import threading\n",
    "import pyautogui\n",
    "import time\n",
    "# parent directory of student repos\n",
    "d = '/Users/charlesliu/Documents/HarvardTeaching/CS207'"
   ]
  },
  {
   "cell_type": "code",
   "execution_count": 2,
   "metadata": {},
   "outputs": [
    {
     "data": {
      "text/plain": [
       "[(PosixPath('/Users/charlesliu/Documents/HarvardTeaching/CS207/cs207_david_sondak'),\n",
       "  'cs207_david_sondak')]"
      ]
     },
     "execution_count": 2,
     "metadata": {},
     "output_type": "execute_result"
    }
   ],
   "source": [
    "# aggregate student repos in directory\n",
    "p = Path(d)\n",
    "studentrepos = []\n",
    "for x in p.iterdir():\n",
    "    repo = str(x).replace(d + '/', '').lower()\n",
    "    if 'cs207' in repo:\n",
    "        studentrepos.append((x, repo))\n",
    "studentrepos"
   ]
  },
  {
   "cell_type": "code",
   "execution_count": 17,
   "metadata": {
    "collapsed": true
   },
   "outputs": [],
   "source": [
    "# class for a thread to enter user input for the atm session\n",
    "class TypewriteThread(threading.Thread):\n",
    "    def __init__(self, msg, interval=0.0, sleep=0.25):\n",
    "        super(TypewriteThread, self).__init__()\n",
    "        self.msg = msg\n",
    "        self.interval = interval\n",
    "        self.sleep = sleep\n",
    "\n",
    "\n",
    "    def run(self):\n",
    "        time.sleep(self.sleep)\n",
    "        pyautogui.typewrite(self.msg, self.interval)"
   ]
  },
  {
   "cell_type": "code",
   "execution_count": 34,
   "metadata": {
    "collapsed": true
   },
   "outputs": [],
   "source": [
    "# tests to run given module, return score\n",
    "def testSuite (m):\n",
    "    SAVINGS = m.AccountType.SAVINGS\n",
    "    CHECKING = m.AccountType.CHECKING\n",
    "    # create a bank account and bank user, just check no errors thrown\n",
    "    try:\n",
    "        acc = m.BankAccount('Charles Liu', m.AccountType.SAVINGS)\n",
    "        user = m.BankUser('Charles Liu')\n",
    "    except:\n",
    "        # if this doesn't work then it's a 0\n",
    "        return '0 (Classes didnt work)'\n",
    "    \n",
    "    # run some basic bank account functions\n",
    "    try:\n",
    "        if len(acc) != 0:\n",
    "            raise ValueError('balance not starting at 0')\n",
    "        try:\n",
    "            acc.withdraw(100)\n",
    "        except:\n",
    "            pass\n",
    "        if len(acc) != 0:\n",
    "            raise ValueError('withdraw did something when it shouldnt have')\n",
    "        acc.deposit(100)\n",
    "        if len(acc) != 100:\n",
    "            raise ValueError('deposit didnt work correctly')\n",
    "        acc.withdraw(50)\n",
    "        if len(acc) != 50:\n",
    "            raise ValueError('withdraw didnt work correctly')\n",
    "    except ValueError as e:\n",
    "        return '1 (' + str(e) + ')'\n",
    "    \n",
    "    # run some basic bank user functions\n",
    "    try:\n",
    "        try:\n",
    "            savings = user.getBalance(SAVINGS)\n",
    "            checking = user.getBalance(CHECKING)\n",
    "            if savings >= 0 and (type(savings) == int or type(savings) == float):\n",
    "                raise ValueError('account hasnt been created yet but returning a number on getbalance')\n",
    "            if checking >= 0 and (type(checking) == int or type(checking) == float):\n",
    "                raise ValueError('account hasnt been created yet but returning a number on getbalance')\n",
    "        except:\n",
    "            pass\n",
    "        \n",
    "        user.addAccount(SAVINGS)\n",
    "        user.addAccount(CHECKING)\n",
    "        \n",
    "        if user.getBalance(SAVINGS) != 0 or user.getBalance(CHECKING) != 0:\n",
    "            raise ValueError('invalid balance after adding account')\n",
    "            \n",
    "        user.deposit(SAVINGS, 1000)\n",
    "        user.deposit(CHECKING, 500)\n",
    "\n",
    "        if user.getBalance(SAVINGS) != 1000 or user.getBalance(CHECKING) != 500:\n",
    "            raise ValueError('invalid balance after depositing')\n",
    "            \n",
    "        user.withdraw(SAVINGS, 500)\n",
    "        if user.getBalance(SAVINGS) != 500 or user.getBalance(CHECKING) != 500:\n",
    "            raise ValueError('invalid balance after withdrawing')\n",
    "            \n",
    "        try:\n",
    "            user.addAccount(SAVINGS)\n",
    "        except:\n",
    "            pass\n",
    "        \n",
    "        if user.getBalance(SAVINGS) != 500:\n",
    "            raise ValueError('adding account second time overwrote balance')\n",
    "        \n",
    "    except ValueError as e:\n",
    "        return '3 (' + str(e) + ')'\n",
    "    \n",
    "    # closure is a bit harder to automate since the interface may be different if student was ambitious\n",
    "    # we'll just check that an operation works for the user we created\n",
    "    try:\n",
    "        interface = m.ATMSession(user)\n",
    "        # Choose Deposit\n",
    "        TypewriteThread(['4', '\\n'], sleep=0.5).start()\n",
    "        # Choose checking\n",
    "        TypewriteThread(['1', '\\n'], sleep=1.0).start()\n",
    "        # Deposit 100\n",
    "        TypewriteThread(['1', '0', '0', '\\n'], sleep=1.5).start()\n",
    "        # Exit prompt\n",
    "        TypewriteThread(['1', '\\n'], sleep=2.0).start()\n",
    "        interface()\n",
    "        if user.getBalance(CHECKING) != 600:\n",
    "            raise ValueError('ATM Session didnt deposit correctly')\n",
    "    except ValueError as e:\n",
    "        return '4 (' + str(e) + ')'\n",
    "        \n",
    "    return 5"
   ]
  },
  {
   "cell_type": "code",
   "execution_count": 35,
   "metadata": {},
   "outputs": [
    {
     "name": "stdout",
     "output_type": "stream",
     "text": [
      "Enter Option:\n",
      "1)Exit\n",
      "2)Create Account\n",
      "3)Check Balance\n",
      "4)Deposit\n",
      "5)WithDraw\n",
      "\n",
      "4\n",
      "Select Account Type:\n",
      "1) Checking\n",
      "2) Savings\n",
      "1\n",
      "Enter integer amount, cannot be negative\n",
      "100\n",
      "Transaction was successful\n",
      "\n",
      "Charles Liu's Accounts:\n",
      "CHECKING: 600\n",
      "SAVINGS: 500\n",
      "\n",
      "Enter Option:\n",
      "1)Exit\n",
      "2)Create Account\n",
      "3)Check Balance\n",
      "4)Deposit\n",
      "5)WithDraw\n",
      "\n",
      "1\n",
      "Charles Liu's Accounts:\n",
      "CHECKING: 600\n",
      "SAVINGS: 500\n",
      "\n"
     ]
    },
    {
     "data": {
      "text/plain": [
       "{'cs207_david_sondak': 5}"
      ]
     },
     "execution_count": 35,
     "metadata": {},
     "output_type": "execute_result"
    }
   ],
   "source": [
    "# run script\n",
    "grades = {}\n",
    "for path, repo in studentrepos:\n",
    "    hw6 = path / 'homeworks' / 'HW6' / 'Bank.py'\n",
    "    spec = importlib.util.spec_from_file_location(\"Bank\", str(hw6.resolve()))\n",
    "    b = importlib.util.module_from_spec(spec)\n",
    "    spec.loader.exec_module(b)\n",
    "    grades[repo] = testSuite(b)\n",
    "grades"
   ]
  },
  {
   "cell_type": "code",
   "execution_count": null,
   "metadata": {
    "collapsed": true
   },
   "outputs": [],
   "source": []
  }
 ],
 "metadata": {
  "kernelspec": {
   "display_name": "Python 3",
   "language": "python",
   "name": "python3"
  },
  "language_info": {
   "codemirror_mode": {
    "name": "ipython",
    "version": 3
   },
   "file_extension": ".py",
   "mimetype": "text/x-python",
   "name": "python",
   "nbconvert_exporter": "python",
   "pygments_lexer": "ipython3",
   "version": "3.5.3"
  }
 },
 "nbformat": 4,
 "nbformat_minor": 2
}
