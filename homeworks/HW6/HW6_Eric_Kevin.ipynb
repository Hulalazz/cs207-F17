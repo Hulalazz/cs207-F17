{
 "cells": [
  {
   "cell_type": "markdown",
   "metadata": {},
   "source": [
    "# Problem 3"
   ]
  },
  {
   "cell_type": "code",
   "execution_count": 226,
   "metadata": {},
   "outputs": [],
   "source": [
    "import numpy as np\n",
    "from sklearn import datasets\n",
    "from collections import Counter\n",
    "from sklearn import linear_model\n",
    "from sklearn.model_selection import train_test_split\n",
    "import matplotlib.pyplot as plt\n",
    "%matplotlib inline\n",
    "\n",
    "dataset = datasets.load_diabetes()\n",
    "X_train, X_test, y_train, y_test = train_test_split(dataset['data'], \n",
    "                                                    dataset['target'], \n",
    "                                                    test_size=0.25, \n",
    "                                                    random_state=42)"
   ]
  },
  {
   "cell_type": "markdown",
   "metadata": {},
   "source": [
    "Let's say you need to run linear regression models on a set of experiments. To reduce time and simplify your life, you have decided to write a class that captures the various things you might want to do with a linear model. \n",
    "\n",
    "Consider the multivariate linear model $y = X\\beta + \\epsilon$,  where $y$ is a length $n$ vector, $X$ is an $mxp$ matrix, and $\\beta$ is a $p$ length vector. Here, $\\beta$ is the vector of coefficients.\n",
    "\n",
    "We know through matrix calculus that $\\hat{\\beta} = (X^TX)^{-1}X^Ty$.\n",
    "\n",
    "Write a class with the following methods:\n",
    "\n",
    "$fit()$: Fits linear model to $X$ and $y$.\n",
    "\n",
    "$get\\_params()$: Returns $\\hat{\\beta}$ for the fitted model.\n",
    "\n",
    "$predict()$: Predict new values given the fitted model.\n",
    "\n",
    "$score()$: Returns $R^2$ value of the fitted model.\n",
    "\n",
    "$set\\_params()$: Manually set the parameters of the linear model."
   ]
  },
  {
   "cell_type": "markdown",
   "metadata": {},
   "source": [
    "1. Based on the Regression parent class, create three subclasses: LinearRegression, RidgeRegression, and LassoRegression."
   ]
  },
  {
   "cell_type": "code",
   "execution_count": 1,
   "metadata": {},
   "outputs": [],
   "source": [
    "class Regression(object):\n",
    "    \n",
    "    def __init__(self):\n",
    "        self.params = dict()\n",
    "    \n",
    "    def get_params(self):\n",
    "        return self.params\n",
    "        \n",
    "    def fit(self, X, y):\n",
    "        raise NotImplementedError()\n",
    "        \n",
    "    def predict(self, X):\n",
    "        raise NotImplementedError()\n",
    "        \n",
    "    def score(self, X, y):\n",
    "        raise NotImplementedError()"
   ]
  },
  {
   "cell_type": "code",
   "execution_count": 208,
   "metadata": {},
   "outputs": [],
   "source": [
    "class LinearRegression(Regression):\n",
    "    \n",
    "    def __init__(self):\n",
    "        #super()\n",
    "        super(LinearRegression, self).__init__()\n",
    "        \n",
    "    def fit(self, X, y):\n",
    "        X = np.append(np.ones((X.shape[0], 1)), X, axis=1)\n",
    "        beta = np.linalg.pinv(X.T.dot(X)).dot(X.T).dot(y)\n",
    "        self.params['coef'] = beta[1:]\n",
    "        self.params['intercept'] = beta[0]\n",
    "    \n",
    "    def predict(self, X):\n",
    "        return np.dot(X, self.params['coef'])+self.params['intercept']\n",
    "\n",
    "    def score(self, X, y):\n",
    "        y_hat = self.predict(X)\n",
    "        y_bar = np.mean(y)\n",
    "        SST = np.sum((y - y_bar)**2)\n",
    "        SSRes = np.sum((y_hat - y)**2)\n",
    "        R2 = 1 - SSRes / SST\n",
    "        return R2"
   ]
  },
  {
   "cell_type": "code",
   "execution_count": 209,
   "metadata": {
    "collapsed": true
   },
   "outputs": [],
   "source": [
    "class RidgeRegression(LinearRegression):\n",
    "    \n",
    "    def __init__(self, alpha=0.1):\n",
    "        #super()\n",
    "        super(RidgeRegression, self).__init__()\n",
    "        self.params['alpha'] = alpha\n",
    "\n",
    "    def fit(self, X, y):\n",
    "        X = np.append(np.ones((X.shape[0], 1)), X, axis=1)\n",
    "        C = X.T.dot(X) + self.params['alpha']*np.eye(X.shape[1])\n",
    "        beta = np.linalg.inv(C).dot(X.T.dot(y))\n",
    "        self.params['coef'] = beta[1:]\n",
    "        self.params['intercept'] = beta[0]"
   ]
  },
  {
   "cell_type": "code",
   "execution_count": 210,
   "metadata": {
    "collapsed": true
   },
   "outputs": [],
   "source": [
    "class LassoRegression(LinearRegression):\n",
    "    \n",
    "    def __init__(self, alpha=0.1):\n",
    "        #super(self)\n",
    "        super(LassoRegression, self).__init__()\n",
    "        self.params['alpha'] = alpha\n",
    "\n",
    "    def fit(self, X, y):\n",
    "        clf = linear_model.Lasso(alpha=self.params['alpha'])\n",
    "        clf.fit(X, y)\n",
    "        self.params['coef'] = clf.coef_\n",
    "        self.params['intercept'] = clf.intercept_"
   ]
  },
  {
   "cell_type": "code",
   "execution_count": 211,
   "metadata": {},
   "outputs": [],
   "source": [
    "model = LinearRegression()\n",
    "model.fit(X_train, y_train)\n",
    "model = LassoRegression()\n",
    "model.fit(X_train, y_train)"
   ]
  },
  {
   "cell_type": "markdown",
   "metadata": {},
   "source": [
    "### 2. For alpha = 0.1, print out the $R^{2}$ scores."
   ]
  },
  {
   "cell_type": "code",
   "execution_count": 220,
   "metadata": {},
   "outputs": [
    {
     "name": "stdout",
     "output_type": "stream",
     "text": [
      "0.484908663591\n",
      "0.491805649761\n",
      "0.501975882135\n"
     ]
    }
   ],
   "source": [
    "alpha = 0.1\n",
    "models = [LinearRegression(),\n",
    "          RidgeRegression(alpha),\n",
    "          LassoRegression(alpha)]\n",
    "\n",
    "for model in models:\n",
    "    model.fit(X_train, y_train)\n",
    "    print model.score(X_test, y_test)"
   ]
  },
  {
   "cell_type": "markdown",
   "metadata": {},
   "source": [
    "### 3. Plot the $R^2$ values across a range of alpha values. What would be your model choice and alpha parameter?"
   ]
  },
  {
   "cell_type": "code",
   "execution_count": 222,
   "metadata": {},
   "outputs": [],
   "source": [
    "points = np.zeros((50, 3))\n",
    "for id, alpha in enumerate(np.linspace(0.05, 1, 50)):\n",
    "    models = [LinearRegression(),\n",
    "          RidgeRegression(alpha),\n",
    "          LassoRegression(alpha)]\n",
    "\n",
    "    for num, model in enumerate(models):\n",
    "        model.fit(X_train, y_train)\n",
    "        points[id, num] = model.score(X_test, y_test)"
   ]
  },
  {
   "cell_type": "code",
   "execution_count": 224,
   "metadata": {},
   "outputs": [
    {
     "data": {
      "text/plain": [
       "[<matplotlib.lines.Line2D at 0x10967cf50>,\n",
       " <matplotlib.lines.Line2D at 0x10968d210>,\n",
       " <matplotlib.lines.Line2D at 0x10968d450>]"
      ]
     },
     "execution_count": 224,
     "metadata": {},
     "output_type": "execute_result"
    },
    {
     "data": {
      "image/png": "[encoded data removed]",
      "text/plain": [
       "<matplotlib.figure.Figure at 0x1095e30d0>"
      ]
     },
     "metadata": {},
     "output_type": "display_data"
    }
   ],
   "source": [
    "plt.plot(points)"
   ]
  },
  {
   "cell_type": "code",
   "execution_count": null,
   "metadata": {
    "collapsed": true
   },
   "outputs": [],
   "source": []
  }
 ],
 "metadata": {
  "kernelspec": {
   "display_name": "Python 3",
   "language": "python",
   "name": "python3"
  },
  "language_info": {
   "codemirror_mode": {
    "name": "ipython",
    "version": 3
   },
   "file_extension": ".py",
   "mimetype": "text/x-python",
   "name": "python",
   "nbconvert_exporter": "python",
   "pygments_lexer": "ipython3",
   "version": "3.6.1"
  }
 },
 "nbformat": 4,
 "nbformat_minor": 2
}
