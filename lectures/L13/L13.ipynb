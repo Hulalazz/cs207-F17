{
 "cells": [
  {
   "cell_type": "markdown",
   "metadata": {
    "slideshow": {
     "slide_type": "slide"
    }
   },
   "source": [
    "# Lecture 13\n",
    "\n",
    "### Monday, October 23rd 2017"
   ]
  },
  {
   "cell_type": "markdown",
   "metadata": {
    "slideshow": {
     "slide_type": "slide"
    }
   },
   "source": [
    "## Last time:\n",
    "* Data structures motivation\n",
    "* Abstract data types\n",
    "* Sequences\n",
    "* Linked lists\n",
    "\n",
    "## This time:\n",
    "* Iterators and Iterables\n",
    "* Trees, B-trees, and BSTs"
   ]
  },
  {
   "cell_type": "markdown",
   "metadata": {
    "slideshow": {
     "slide_type": "slide"
    }
   },
   "source": [
    "# From pointers to iterators\n",
    "\n",
    "One can simply follow the `next` pointers to the next **position** in a linked list. \n",
    "\n",
    "This suggests an abstraction of the **position** to an **iterator**.\n",
    "\n",
    "Such an abstraction allows us to treat arrays and linked lists with an identical interface."
   ]
  },
  {
   "cell_type": "markdown",
   "metadata": {
    "slideshow": {
     "slide_type": "subslide"
    }
   },
   "source": [
    "The salient points of this abstraction are:\n",
    "- The notion of a `next` abstracting away the actual gymnastics of where to go next in a storage system.\n",
    "- The notion of a `first` to a `last` that `next` takes us on a journey from and to respectively.\n",
    "\n",
    "We already implemented the sequence protocol.\n",
    "\n",
    "Now we suggest an additional abstraction that is more fundamental than the notion of a sequence: the **iterable**."
   ]
  },
  {
   "cell_type": "markdown",
   "metadata": {
    "slideshow": {
     "slide_type": "slide"
    }
   },
   "source": [
    "# Iterators and Iterables in `Python`\n",
    "\n",
    "Just as a sequence is something implementing `__getitem__` and `__len__`, an **iterable** is something implementing `__iter__`. \n",
    "\n",
    "`__len__` is not needed and indeed may not make sense.\n",
    "```python\n",
    "len(open('fname.txt')) # File iterator has no length\n",
    "```\n",
    "\n",
    "Example `14-1` in `Fluent Python` Sentence sequence and shows how it can be iterated upon."
   ]
  },
  {
   "cell_type": "code",
   "execution_count": 2,
   "metadata": {
    "collapsed": true,
    "slideshow": {
     "slide_type": "subslide"
    }
   },
   "outputs": [],
   "source": [
    "import reprlib\n",
    "class Sentence:\n",
    "    def __init__(self, text): \n",
    "        self.text = text\n",
    "        self.words = text.split()\n",
    "        \n",
    "    def __getitem__(self, index):\n",
    "        return self.words[index] \n",
    "    \n",
    "    def __len__(self):\n",
    "        #completes sequence protocol, but not needed for iterable\n",
    "        return len(self.words) \n",
    "    \n",
    "    def __repr__(self):\n",
    "        return 'Sentence(%s)' % reprlib.repr(self.text)"
   ]
  },
  {
   "cell_type": "code",
   "execution_count": 5,
   "metadata": {
    "slideshow": {
     "slide_type": "fragment"
    }
   },
   "outputs": [
    {
     "name": "stdout",
     "output_type": "stream",
     "text": [
      "5     the     Sentence('Dogs will save the world.')\n"
     ]
    }
   ],
   "source": [
    "# Sequence'\n",
    "s = Sentence(\"Dogs will save the world.\")\n",
    "print(len(s), \"   \", s[3], \"   \",  s)"
   ]
  },
  {
   "cell_type": "code",
   "execution_count": 6,
   "metadata": {
    "slideshow": {
     "slide_type": "fragment"
    }
   },
   "outputs": [
    {
     "data": {
      "text/plain": [
       "('Dogs', 'world.')"
      ]
     },
     "execution_count": 6,
     "metadata": {},
     "output_type": "execute_result"
    }
   ],
   "source": [
    "min(s), max(s)"
   ]
  },
  {
   "cell_type": "code",
   "execution_count": 8,
   "metadata": {
    "slideshow": {
     "slide_type": "fragment"
    }
   },
   "outputs": [
    {
     "data": {
      "text/plain": [
       "['Dogs', 'will', 'save', 'the', 'world.']"
      ]
     },
     "execution_count": 8,
     "metadata": {},
     "output_type": "execute_result"
    }
   ],
   "source": [
    "list(s)"
   ]
  },
  {
   "cell_type": "markdown",
   "metadata": {
    "slideshow": {
     "slide_type": "subslide"
    }
   },
   "source": [
    "To iterate over an object `x`, `Python` automatically calls `iter(x)` (i.e. `x.__iter__`). \n",
    "\n",
    "An **iterable** is something which, when `iter` is called on it, returns an **iterator**.\n",
    "\n",
    "(1) If `__iter__` is defined, it is called to implement an iterator.\n",
    "\n",
    "(2) If not, `__getitem__` is called starting from index `0`.\n",
    "\n",
    "(3) If no `__iter__` and no `__getitem__` then raise a `TypeError`.\n",
    "\n",
    "Any `Python` sequence is iterable because sequences implement `__getitem__`. The standard sequences also implement `__iter__`; for future proofing you should too because  (2) might be deprecated in a future version of `Python`."
   ]
  },
  {
   "cell_type": "markdown",
   "metadata": {
    "slideshow": {
     "slide_type": "subslide"
    }
   },
   "source": [
    "We know that `for` operates on iterables:"
   ]
  },
  {
   "cell_type": "code",
   "execution_count": 9,
   "metadata": {
    "slideshow": {
     "slide_type": "fragment"
    }
   },
   "outputs": [
    {
     "name": "stdout",
     "output_type": "stream",
     "text": [
      "Dogs\n",
      "will\n",
      "save\n",
      "the\n",
      "world.\n"
     ]
    }
   ],
   "source": [
    "for i in s:\n",
    "    print(i)"
   ]
  },
  {
   "cell_type": "markdown",
   "metadata": {
    "slideshow": {
     "slide_type": "fragment"
    }
   },
   "source": [
    "What's actually going on here?"
   ]
  },
  {
   "cell_type": "code",
   "execution_count": 11,
   "metadata": {
    "slideshow": {
     "slide_type": "fragment"
    }
   },
   "outputs": [
    {
     "name": "stdout",
     "output_type": "stream",
     "text": [
      "Dogs\n",
      "will\n",
      "save\n",
      "the\n",
      "world.\n"
     ]
    }
   ],
   "source": [
    "it = iter(s) # Build an iterator from an iterable\n",
    "while True:\n",
    "    try:\n",
    "        nextval = next(it) # Get the next item in the iterator\n",
    "        print(nextval)\n",
    "    except StopIteration:\n",
    "        del it # Iterator is exhausted.  Release reference and discard.\n",
    "        break"
   ]
  },
  {
   "cell_type": "markdown",
   "metadata": {
    "slideshow": {
     "slide_type": "subslide"
    }
   },
   "source": [
    "We can completely abstract away a sequence in favor an iterable (i.e. we dont need to support indexing anymore)\n",
    "\n",
    "Example `14-4` in `Fluent Python`:"
   ]
  },
  {
   "cell_type": "code",
   "execution_count": 12,
   "metadata": {
    "collapsed": true,
    "slideshow": {
     "slide_type": "fragment"
    }
   },
   "outputs": [],
   "source": [
    "class SentenceIterator: # has __next__ and __iter__\n",
    "    def __init__(self, words): \n",
    "        self.words = words \n",
    "        self.index = 0\n",
    "        \n",
    "    def __next__(self): \n",
    "        try:\n",
    "            word = self.words[self.index] \n",
    "        except IndexError:\n",
    "            raise StopIteration() \n",
    "        self.index += 1\n",
    "        return word \n",
    "\n",
    "    def __iter__(self):\n",
    "        return self\n",
    "    \n",
    "class Sentence: # An iterable b/c it has __iter__\n",
    "    def __init__(self, text): \n",
    "        self.text = text\n",
    "        self.words = text.split()\n",
    "        \n",
    "    def __iter__(self):\n",
    "        return SentenceIterator(self.words) # Returns an instance of the iterator\n",
    "    \n",
    "    def __repr__(self):\n",
    "        return 'Sentence(%s)' % reprlib.repr(self.text)"
   ]
  },
  {
   "cell_type": "code",
   "execution_count": 13,
   "metadata": {
    "collapsed": true,
    "slideshow": {
     "slide_type": "subslide"
    }
   },
   "outputs": [],
   "source": [
    "s2 = Sentence(\"What is data science?\")"
   ]
  },
  {
   "cell_type": "code",
   "execution_count": 18,
   "metadata": {
    "slideshow": {
     "slide_type": "fragment"
    }
   },
   "outputs": [
    {
     "name": "stdout",
     "output_type": "stream",
     "text": [
      "What\n",
      "is\n",
      "data\n",
      "science?\n"
     ]
    }
   ],
   "source": [
    "for i in s2:\n",
    "    print(i)"
   ]
  },
  {
   "cell_type": "code",
   "execution_count": 20,
   "metadata": {
    "slideshow": {
     "slide_type": "fragment"
    }
   },
   "outputs": [
    {
     "name": "stdout",
     "output_type": "stream",
     "text": [
      "What\n"
     ]
    },
    {
     "data": {
      "text/plain": [
       "('is', 'What')"
      ]
     },
     "execution_count": 20,
     "metadata": {},
     "output_type": "execute_result"
    }
   ],
   "source": [
    "s2it=iter(s2) # Make the iterable an iterator\n",
    "print(next(s2it)) # Get the next entry\n",
    "s2it2=iter(s2) # Reset the iterator\n",
    "next(s2it),next(s2it2) # Get the next entry of s2it and s2it2"
   ]
  },
  {
   "cell_type": "markdown",
   "metadata": {
    "slideshow": {
     "slide_type": "subslide"
    }
   },
   "source": [
    "While we could have implemented `__next__` in Sentence itself, making it an iterator, we will run into the problem of \"exhausting an iterator\". \n",
    "\n",
    "The iterator above keeps state in `self.index` and we must be able to start anew by creating a new instance if we want to re-iterate. Thus the `__iter__` in the iterable, simply returns the `SentenceIterator`.\n",
    "\n",
    "From `Fluent Python` (\"Sentence Take #2:  A Classic Iterator\"):\n",
    "> A common cause of errors in building iterables and iterators is to confuse the two. To be clear: iterables have an `__iter__` method that instantiates a new iterator every time. Iterators implement a `__next__` method that returns individual items, and an `__iter__` method that returns self."
   ]
  },
  {
   "cell_type": "markdown",
   "metadata": {
    "slideshow": {
     "slide_type": "subslide"
    }
   },
   "source": [
    "`min()` and `max()` also work even though we no longer satisfy the sequence protocol.\n",
    "\n",
    "`min` and `max` are pairwise comparisons and can be handled via iteration.\n",
    "\n",
    "The take home message is that in programming with these iterators we don't need either the length or indexing to work to implement many algorithms: we have abstracted these away."
   ]
  },
  {
   "cell_type": "code",
   "execution_count": 21,
   "metadata": {
    "slideshow": {
     "slide_type": "fragment"
    }
   },
   "outputs": [
    {
     "data": {
      "text/plain": [
       "('What', 'science?')"
      ]
     },
     "execution_count": 21,
     "metadata": {},
     "output_type": "execute_result"
    }
   ],
   "source": [
    "min(s2), max(s2)"
   ]
  },
  {
   "cell_type": "markdown",
   "metadata": {
    "slideshow": {
     "slide_type": "slide"
    }
   },
   "source": [
    "# Trees\n",
    "\n",
    "A tree is:\n",
    "\n",
    "- a hierarchical data structure that has a bunch of items,\n",
    "- each of which may have a value\n",
    "- some of which may point to other such items, and some that dont (leaf nodes)\n",
    "- each item is pointed to by exactly one other item, with the sole exception of the root."
   ]
  },
  {
   "cell_type": "markdown",
   "metadata": {
    "slideshow": {
     "slide_type": "subslide"
    }
   },
   "source": [
    "Trees arise everywhere:\n",
    "\n",
    "- in parsing of code\n",
    "- evolutionary trees in biology\n",
    "- language origin trees\n",
    "- unix file system\n",
    "- html tags on this page\n",
    "\n",
    "Just like with lists, one can consider looking at a tree in two ways: a collection of nodes, or a tree with a root and multiple sub-trees."
   ]
  },
  {
   "cell_type": "markdown",
   "metadata": {
    "slideshow": {
     "slide_type": "subslide"
    }
   },
   "source": [
    "Once again, one can represent trees using the recursive data structures we used to represent linked lists (from cs61a):\n",
    "\n",
    "![](http://wla.berkeley.edu/~cs61a/fa11/lectures/img/tree.png)\n",
    "\n"
   ]
  },
  {
   "cell_type": "markdown",
   "metadata": {
    "slideshow": {
     "slide_type": "fragment"
    }
   },
   "source": [
    "You could also use a tree in which the nodes all themselves have data. This is often used to represent a binary tree."
   ]
  },
  {
   "cell_type": "code",
   "execution_count": 24,
   "metadata": {
    "slideshow": {
     "slide_type": "fragment"
    }
   },
   "outputs": [
    {
     "data": {
      "text/plain": [
       "Tree(1, Tree(2), Tree(3, Tree(4), None))"
      ]
     },
     "execution_count": 24,
     "metadata": {},
     "output_type": "execute_result"
    }
   ],
   "source": [
    "class Tree: #from cs61a\n",
    "    \n",
    "    def __init__(self, data, left=None, right=None):\n",
    "        self.entry = data\n",
    "        self.left = left\n",
    "        self.right = right\n",
    "    def __repr__(self):\n",
    "        args = repr(self.entry)\n",
    "        if self.left or self.right:\n",
    "            args += ', {0}, {1}'.format(repr(self.left), repr(self.right))\n",
    "        return 'Tree({0})'.format(args)\n",
    "\n",
    "Tree(1,Tree(2), Tree(3, Tree(4)))"
   ]
  },
  {
   "cell_type": "markdown",
   "metadata": {
    "slideshow": {
     "slide_type": "fragment"
    }
   },
   "source": [
    "Once we do iteration in more detail, we'll talk about traversal mechanisms!"
   ]
  }
 ],
 "metadata": {
  "celltoolbar": "Slideshow",
  "kernelspec": {
   "display_name": "Python 3",
   "language": "python",
   "name": "python3"
  },
  "language_info": {
   "codemirror_mode": {
    "name": "ipython",
    "version": 3
   },
   "file_extension": ".py",
   "mimetype": "text/x-python",
   "name": "python",
   "nbconvert_exporter": "python",
   "pygments_lexer": "ipython3",
   "version": "3.6.1"
  }
 },
 "nbformat": 4,
 "nbformat_minor": 1
}
