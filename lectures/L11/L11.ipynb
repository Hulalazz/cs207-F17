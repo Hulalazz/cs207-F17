{
 "cells": [
  {
   "cell_type": "markdown",
   "metadata": {
    "slideshow": {
     "slide_type": "slide"
    }
   },
   "source": [
    "# Lecture 11\n",
    "* Part 1:  More OOP\n",
    "* Part 2: Input Files\n",
    "\n",
    "### Wednesday, October 11th 2017"
   ]
  },
  {
   "cell_type": "code",
   "execution_count": 1,
   "metadata": {
    "collapsed": true,
    "slideshow": {
     "slide_type": "skip"
    }
   },
   "outputs": [],
   "source": [
    "from IPython.display import HTML"
   ]
  },
  {
   "cell_type": "markdown",
   "metadata": {
    "slideshow": {
     "slide_type": "slide"
    }
   },
   "source": [
    "## Recap\n",
    "* We introduced the idea of objects in Python\n",
    "* We discussed Python classes\n",
    "* We went over **inheritance**\n",
    "* We *briefly* touched on **polymorphism**\n",
    "* We discussed Python dunder methods\n",
    "* We touched on the table implementation for `Python` objects\n",
    "  - This implementation allows us to look for attributes and methods\n",
    "  - If those attributes and methods are not found, then look elsewhere\n",
    "    1. A lookup first happens in the instance table\n",
    "    2. Then the class table (methods)\n",
    "    3. Then somewhere up in the inheritance hierarchy"
   ]
  },
  {
   "cell_type": "markdown",
   "metadata": {
    "slideshow": {
     "slide_type": "slide"
    }
   },
   "source": [
    "# What is Polymorphism?\n",
    "\n",
    "We saw polymorphism last time as the ability to tun the same methods on different objects, either through inheritance or by just defining an ad-hoc protocol (duck typing).\n",
    "\n",
    "The more general definition is:\n",
    "\n",
    "**The ability to write code that looks similar, but operates on different types.**\n",
    "\n",
    "In other words, a single interface serves entities of different types. \n"
   ]
  },
  {
   "cell_type": "markdown",
   "metadata": {
    "slideshow": {
     "slide_type": "subslide"
    }
   },
   "source": [
    "## Polymorphism Summary\n",
    "\n",
    "Python type system is strong and dynamic:\n",
    "\n",
    "- strong: everything has a well-defined type: `type`, `isinstance`\n",
    "- dynamic: type is not explicitly declared, changes with content\n",
    "\n",
    "In classic dynamically typed languages (e.g. Python) most common code is polymorphic. \n",
    "\n",
    "The types of values are restricted only by explicit runtime checks or errors due to failed support for operations at run time. \n",
    "\n",
    "Polymorphism is often combined with inheritance, but does not need to be.\n",
    "\n",
    "One classification of Polymorphism (summarized from Wikipedia) divides it as:\n",
    "- on one axis:  adhoc, parametric, and subtype based\n",
    "- on another axis:  dynamic (run time) and static (compile time)"
   ]
  },
  {
   "cell_type": "markdown",
   "metadata": {
    "slideshow": {
     "slide_type": "subslide"
    }
   },
   "source": [
    "### Static vs Dynamic\n",
    "\n",
    "Dynamic (run-time) polymorphism can be thought of as table based dispatch: that there is, somewhere, atleast conceptually, a table of types, or a linkage of such tables created by inheritance, where implementations are looked up for types.\n",
    "\n",
    "In static polymorphism (e.g. in `C++`) the binding to the appropriate class can be done at compile time."
   ]
  },
  {
   "cell_type": "markdown",
   "metadata": {
    "slideshow": {
     "slide_type": "subslide"
    }
   },
   "source": [
    "### Back to our French Deck Example"
   ]
  },
  {
   "cell_type": "code",
   "execution_count": 2,
   "metadata": {
    "collapsed": true,
    "slideshow": {
     "slide_type": "fragment"
    }
   },
   "outputs": [],
   "source": [
    "import collections\n",
    "Card = collections.namedtuple('Card', ['rank', 'suit'])"
   ]
  },
  {
   "cell_type": "code",
   "execution_count": 3,
   "metadata": {
    "collapsed": true,
    "slideshow": {
     "slide_type": "fragment"
    }
   },
   "outputs": [],
   "source": [
    "class FrenchDeck():\n",
    "    ranks = [str(n) for n in range(2, 11)] + list('JQKA') \n",
    "    suits = 'spades diamonds clubs hearts'.split()\n",
    "    \n",
    "    def __init__(self):\n",
    "        self._cards = [Card(rank, suit) for suit in self.suits for rank in self.ranks]\n",
    "                       \n",
    "    def __len__(self):\n",
    "        return len(self._cards)\n",
    "                       \n",
    "    def __getitem__(self, position): \n",
    "        return self._cards[position]\n",
    "        "
   ]
  },
  {
   "cell_type": "code",
   "execution_count": 4,
   "metadata": {
    "slideshow": {
     "slide_type": "fragment"
    }
   },
   "outputs": [
    {
     "name": "stdout",
     "output_type": "stream",
     "text": [
      "52\n"
     ]
    }
   ],
   "source": [
    "mydeck = FrenchDeck()\n",
    "print(len(mydeck))"
   ]
  },
  {
   "cell_type": "code",
   "execution_count": 5,
   "metadata": {
    "slideshow": {
     "slide_type": "subslide"
    }
   },
   "outputs": [
    {
     "data": {
      "text/plain": [
       "{'_cards': [Card(rank='2', suit='spades'),\n",
       "  Card(rank='3', suit='spades'),\n",
       "  Card(rank='4', suit='spades'),\n",
       "  Card(rank='5', suit='spades'),\n",
       "  Card(rank='6', suit='spades'),\n",
       "  Card(rank='7', suit='spades'),\n",
       "  Card(rank='8', suit='spades'),\n",
       "  Card(rank='9', suit='spades'),\n",
       "  Card(rank='10', suit='spades'),\n",
       "  Card(rank='J', suit='spades'),\n",
       "  Card(rank='Q', suit='spades'),\n",
       "  Card(rank='K', suit='spades'),\n",
       "  Card(rank='A', suit='spades'),\n",
       "  Card(rank='2', suit='diamonds'),\n",
       "  Card(rank='3', suit='diamonds'),\n",
       "  Card(rank='4', suit='diamonds'),\n",
       "  Card(rank='5', suit='diamonds'),\n",
       "  Card(rank='6', suit='diamonds'),\n",
       "  Card(rank='7', suit='diamonds'),\n",
       "  Card(rank='8', suit='diamonds'),\n",
       "  Card(rank='9', suit='diamonds'),\n",
       "  Card(rank='10', suit='diamonds'),\n",
       "  Card(rank='J', suit='diamonds'),\n",
       "  Card(rank='Q', suit='diamonds'),\n",
       "  Card(rank='K', suit='diamonds'),\n",
       "  Card(rank='A', suit='diamonds'),\n",
       "  Card(rank='2', suit='clubs'),\n",
       "  Card(rank='3', suit='clubs'),\n",
       "  Card(rank='4', suit='clubs'),\n",
       "  Card(rank='5', suit='clubs'),\n",
       "  Card(rank='6', suit='clubs'),\n",
       "  Card(rank='7', suit='clubs'),\n",
       "  Card(rank='8', suit='clubs'),\n",
       "  Card(rank='9', suit='clubs'),\n",
       "  Card(rank='10', suit='clubs'),\n",
       "  Card(rank='J', suit='clubs'),\n",
       "  Card(rank='Q', suit='clubs'),\n",
       "  Card(rank='K', suit='clubs'),\n",
       "  Card(rank='A', suit='clubs'),\n",
       "  Card(rank='2', suit='hearts'),\n",
       "  Card(rank='3', suit='hearts'),\n",
       "  Card(rank='4', suit='hearts'),\n",
       "  Card(rank='5', suit='hearts'),\n",
       "  Card(rank='6', suit='hearts'),\n",
       "  Card(rank='7', suit='hearts'),\n",
       "  Card(rank='8', suit='hearts'),\n",
       "  Card(rank='9', suit='hearts'),\n",
       "  Card(rank='10', suit='hearts'),\n",
       "  Card(rank='J', suit='hearts'),\n",
       "  Card(rank='Q', suit='hearts'),\n",
       "  Card(rank='K', suit='hearts'),\n",
       "  Card(rank='A', suit='hearts')]}"
      ]
     },
     "execution_count": 5,
     "metadata": {},
     "output_type": "execute_result"
    }
   ],
   "source": [
    "vars(mydeck)"
   ]
  },
  {
   "cell_type": "code",
   "execution_count": 6,
   "metadata": {
    "slideshow": {
     "slide_type": "subslide"
    }
   },
   "outputs": [
    {
     "data": {
      "text/plain": [
       "['__class__',\n",
       " '__delattr__',\n",
       " '__dict__',\n",
       " '__dir__',\n",
       " '__doc__',\n",
       " '__eq__',\n",
       " '__format__',\n",
       " '__ge__',\n",
       " '__getattribute__',\n",
       " '__getitem__',\n",
       " '__gt__',\n",
       " '__hash__',\n",
       " '__init__',\n",
       " '__init_subclass__',\n",
       " '__le__',\n",
       " '__len__',\n",
       " '__lt__',\n",
       " '__module__',\n",
       " '__ne__',\n",
       " '__new__',\n",
       " '__reduce__',\n",
       " '__reduce_ex__',\n",
       " '__repr__',\n",
       " '__setattr__',\n",
       " '__sizeof__',\n",
       " '__str__',\n",
       " '__subclasshook__',\n",
       " '__weakref__',\n",
       " '_cards',\n",
       " 'ranks',\n",
       " 'suits']"
      ]
     },
     "execution_count": 6,
     "metadata": {},
     "output_type": "execute_result"
    }
   ],
   "source": [
    "dir(mydeck)"
   ]
  },
  {
   "cell_type": "code",
   "execution_count": 7,
   "metadata": {
    "slideshow": {
     "slide_type": "subslide"
    }
   },
   "outputs": [
    {
     "data": {
      "text/plain": [
       "mappingproxy({'__dict__': <attribute '__dict__' of 'FrenchDeck' objects>,\n",
       "              '__doc__': None,\n",
       "              '__getitem__': <function __main__.FrenchDeck.__getitem__>,\n",
       "              '__init__': <function __main__.FrenchDeck.__init__>,\n",
       "              '__len__': <function __main__.FrenchDeck.__len__>,\n",
       "              '__module__': '__main__',\n",
       "              '__weakref__': <attribute '__weakref__' of 'FrenchDeck' objects>,\n",
       "              'ranks': ['2',\n",
       "               '3',\n",
       "               '4',\n",
       "               '5',\n",
       "               '6',\n",
       "               '7',\n",
       "               '8',\n",
       "               '9',\n",
       "               '10',\n",
       "               'J',\n",
       "               'Q',\n",
       "               'K',\n",
       "               'A'],\n",
       "              'suits': ['spades', 'diamonds', 'clubs', 'hearts']})"
      ]
     },
     "execution_count": 7,
     "metadata": {},
     "output_type": "execute_result"
    }
   ],
   "source": [
    "vars(mydeck.__class__)"
   ]
  },
  {
   "cell_type": "code",
   "execution_count": 8,
   "metadata": {
    "slideshow": {
     "slide_type": "subslide"
    }
   },
   "outputs": [
    {
     "data": {
      "text/plain": [
       "['__class__',\n",
       " '__delattr__',\n",
       " '__dict__',\n",
       " '__dir__',\n",
       " '__doc__',\n",
       " '__eq__',\n",
       " '__format__',\n",
       " '__ge__',\n",
       " '__getattribute__',\n",
       " '__getitem__',\n",
       " '__gt__',\n",
       " '__hash__',\n",
       " '__init__',\n",
       " '__init_subclass__',\n",
       " '__le__',\n",
       " '__len__',\n",
       " '__lt__',\n",
       " '__module__',\n",
       " '__ne__',\n",
       " '__new__',\n",
       " '__reduce__',\n",
       " '__reduce_ex__',\n",
       " '__repr__',\n",
       " '__setattr__',\n",
       " '__sizeof__',\n",
       " '__str__',\n",
       " '__subclasshook__',\n",
       " '__weakref__',\n",
       " 'ranks',\n",
       " 'suits']"
      ]
     },
     "execution_count": 8,
     "metadata": {},
     "output_type": "execute_result"
    }
   ],
   "source": [
    "dir(mydeck.__class__)"
   ]
  },
  {
   "cell_type": "markdown",
   "metadata": {
    "slideshow": {
     "slide_type": "slide"
    }
   },
   "source": [
    "## Ad hoc Polymorphism and Object tables\n",
    "\n",
    "**Ad hoc polymorphism** is the notion that different functions are called to accomplish the same task for arguments of different types. \n",
    "\n",
    "This enables the Python Data model with the dunder methods. \n",
    "\n",
    "If you call `len(arg)` or `iter(arg)`, we delegate to `arg`'s `__len__` or `__iter__` by *looking them up in the table (class) corresponding to arg*. \n",
    "\n",
    "**The net effect is that you get different behaviors for different objects.**\n",
    "\n",
    "You are not looking up a table for the operation but instead looking up a table for the object.\n",
    "\n",
    "You can think of this as *single dispatch*: the `len` is dispatched based on the type of the argument by looking up a table for the argument."
   ]
  },
  {
   "cell_type": "markdown",
   "metadata": {
    "slideshow": {
     "slide_type": "subslide"
    }
   },
   "source": [
    "### Duck Typing\n",
    "\n",
    "- We group together the notion that an object responds to such \"messages\" into a protocol\n",
    "- An example is the informal notion that something is a sequence\n",
    "\n",
    "This is **Duck Typing**. "
   ]
  },
  {
   "cell_type": "markdown",
   "metadata": {
    "slideshow": {
     "slide_type": "fragment"
    }
   },
   "source": [
    "Alex Martelli, the coiner of the phrase *Duck Typing*, says:\n",
    "\n",
    ">In Python, this mostly boils down to avoiding the use of isinstance to check the object’s type (not to mention the even worse approach of checking, for example, whether type(foo) is bar—which is rightly anathema as it inhibits even the simplest forms of inheritance!)."
   ]
  },
  {
   "cell_type": "markdown",
   "metadata": {
    "slideshow": {
     "slide_type": "subslide"
    }
   },
   "source": [
    "### Tables for dispatching on functions\n",
    "\n",
    "You can also dispatch a function based on its argument, with no lookup in that argument's table, but rather in a *table that is associated with the function*. This is also *single dispatch*, but from a different table.\n",
    "\n",
    "There is no built in support in Python for this, but you can write it on your own by associating a dictionary with multiple types.\n",
    "\n",
    "See Chapter 7 (Example 7-20 and Example 7-21) in *Fluent Python*."
   ]
  },
  {
   "cell_type": "markdown",
   "metadata": {
    "slideshow": {
     "slide_type": "slide"
    }
   },
   "source": [
    "## Parametric Polymorphism\n",
    "\n",
    "**write functions (or types) that are generic \"over\" other types.**\n",
    "\n",
    "- This means, for example, a stack that can take either an `int` or a `float` or an `animal`. \n",
    "  * Notice that this is generally true in a dynamic language such as `Python` where objects are allocated on the heap and it's the references or labels or ids that are pushed onto the stack. \n",
    "\n",
    "- In C++ this can be done using templates at compile time to optimize the allocation of space."
   ]
  },
  {
   "cell_type": "markdown",
   "metadata": {
    "slideshow": {
     "slide_type": "slide"
    }
   },
   "source": [
    "## Subtype Polymorphism\n",
    "\n",
    "This refers to the polymorphism that we encounter in situations where our language provides subclassing.\n",
    "\n",
    "- In a language such as C++, this refers to the notion that a dog and a cat can make sounds through an animal pointer. \n",
    "- In Python one can use duck typing or inheritance. So subtype polymorphism is then just ad-hoc polymorphism plus an augmented lookup in the inheritance hierarchy."
   ]
  },
  {
   "cell_type": "markdown",
   "metadata": {
    "slideshow": {
     "slide_type": "slide"
    }
   },
   "source": [
    "## Object Tables Again\n",
    "\n",
    "What's this table we keep talking about? We hinted at it earlier when we did:"
   ]
  },
  {
   "cell_type": "code",
   "execution_count": 9,
   "metadata": {
    "slideshow": {
     "slide_type": "fragment"
    }
   },
   "outputs": [
    {
     "data": {
      "text/plain": [
       "mappingproxy({'__dict__': <attribute '__dict__' of 'FrenchDeck' objects>,\n",
       "              '__doc__': None,\n",
       "              '__getitem__': <function __main__.FrenchDeck.__getitem__>,\n",
       "              '__init__': <function __main__.FrenchDeck.__init__>,\n",
       "              '__len__': <function __main__.FrenchDeck.__len__>,\n",
       "              '__module__': '__main__',\n",
       "              '__weakref__': <attribute '__weakref__' of 'FrenchDeck' objects>,\n",
       "              'ranks': ['2',\n",
       "               '3',\n",
       "               '4',\n",
       "               '5',\n",
       "               '6',\n",
       "               '7',\n",
       "               '8',\n",
       "               '9',\n",
       "               '10',\n",
       "               'J',\n",
       "               'Q',\n",
       "               'K',\n",
       "               'A'],\n",
       "              'suits': ['spades', 'diamonds', 'clubs', 'hearts']})"
      ]
     },
     "execution_count": 9,
     "metadata": {},
     "output_type": "execute_result"
    }
   ],
   "source": [
    "mydeck.__class__.__dict__"
   ]
  },
  {
   "cell_type": "markdown",
   "metadata": {
    "slideshow": {
     "slide_type": "subslide"
    }
   },
   "source": [
    "### What if we dont find a method in the table?\n",
    "\n",
    "Either this is a runtime error, or we search in the \"parent\" classes of this class.\n",
    "\n",
    "We can see all such attributes by using `dir`:"
   ]
  },
  {
   "cell_type": "code",
   "execution_count": 10,
   "metadata": {
    "slideshow": {
     "slide_type": "fragment"
    }
   },
   "outputs": [
    {
     "data": {
      "text/plain": [
       "['__class__',\n",
       " '__delattr__',\n",
       " '__dict__',\n",
       " '__dir__',\n",
       " '__doc__',\n",
       " '__eq__',\n",
       " '__format__',\n",
       " '__ge__',\n",
       " '__getattribute__',\n",
       " '__getitem__',\n",
       " '__gt__',\n",
       " '__hash__',\n",
       " '__init__',\n",
       " '__init_subclass__',\n",
       " '__le__',\n",
       " '__len__',\n",
       " '__lt__',\n",
       " '__module__',\n",
       " '__ne__',\n",
       " '__new__',\n",
       " '__reduce__',\n",
       " '__reduce_ex__',\n",
       " '__repr__',\n",
       " '__setattr__',\n",
       " '__sizeof__',\n",
       " '__str__',\n",
       " '__subclasshook__',\n",
       " '__weakref__',\n",
       " '_cards',\n",
       " 'ranks',\n",
       " 'suits']"
      ]
     },
     "execution_count": 10,
     "metadata": {},
     "output_type": "execute_result"
    }
   ],
   "source": [
    "dir(mydeck)"
   ]
  },
  {
   "cell_type": "markdown",
   "metadata": {
    "slideshow": {
     "slide_type": "subslide"
    }
   },
   "source": [
    "This works because it gets sent up:"
   ]
  },
  {
   "cell_type": "code",
   "execution_count": 11,
   "metadata": {
    "slideshow": {
     "slide_type": "fragment"
    }
   },
   "outputs": [
    {
     "data": {
      "text/plain": [
       "-9223372036579086220"
      ]
     },
     "execution_count": 11,
     "metadata": {},
     "output_type": "execute_result"
    }
   ],
   "source": [
    "hash(mydeck)"
   ]
  },
  {
   "cell_type": "markdown",
   "metadata": {
    "slideshow": {
     "slide_type": "fragment"
    }
   },
   "source": [
    "You can see whats upward of the French Deck by inspecting the [*Method Order Resolution*](https://www.python.org/download/releases/2.3/mro/) using the `mro` method."
   ]
  },
  {
   "cell_type": "code",
   "execution_count": 12,
   "metadata": {
    "slideshow": {
     "slide_type": "fragment"
    }
   },
   "outputs": [
    {
     "data": {
      "text/plain": [
       "[__main__.FrenchDeck, object]"
      ]
     },
     "execution_count": 12,
     "metadata": {},
     "output_type": "execute_result"
    }
   ],
   "source": [
    "FrenchDeck.mro()"
   ]
  },
  {
   "cell_type": "markdown",
   "metadata": {
    "slideshow": {
     "slide_type": "slide"
    }
   },
   "source": [
    "# Input Files and Parsing\n",
    "\n",
    "We usually want to read data into our software:\n",
    "* Input parameters to the code (e.g. time step, linear algebra solvers, physical parameters, etc)\n",
    "* Input fields (e.g. fields to visualize)\n",
    "* Calibration data\n",
    "* $\\vdots$\n",
    "\n",
    "This data can be provided by us, or the client, or come from a database somewhere.\n",
    "\n",
    "There are *many* ways of reading in and parsing data.  In fact, this is often a non-trivial exercise depending on the quality of the data as well as its size.\n",
    "\n",
    "Our immediate concern will be with how to read chemical reaction information into our chemical kinetics code.\n",
    "\n",
    "Many kinetics codes read reaction information in from files in `.xml` format."
   ]
  },
  {
   "cell_type": "markdown",
   "metadata": {
    "slideshow": {
     "slide_type": "slide"
    }
   },
   "source": [
    "## XML Intro"
   ]
  },
  {
   "cell_type": "markdown",
   "metadata": {
    "slideshow": {
     "slide_type": "fragment"
    }
   },
   "source": [
    "```xml\n",
    "<?xml version=\"1.0\"?>\n",
    "\n",
    "<ctml>\n",
    "\n",
    "    <reactionData id=\"test_mechanism\">\n",
    "\n",
    "        <!-- reaction 01  -->\n",
    "        <reaction reversible=\"yes\" type=\"Elementary\" id=\"reaction01\">\n",
    "            <equation>H + O2 [=] OH + O</equation>\n",
    "            <rateCoeff>\n",
    "                <Kooij>\n",
    "                    <A units=\"cm3/mol/s\">3.52e+16</A>\n",
    "                    <b>-0.7</b>\n",
    "                    <E units=\"kJ/mol\">71.4</E>\n",
    "                </Kooij>\n",
    "            </rateCoeff>\n",
    "            <reactants>H:1 O2:1</reactants>\n",
    "            <products>OH:1 O:1</products>\n",
    "        </reaction>\n",
    "\n",
    "        <!-- reaction 02 -->\n",
    "        <reaction reversible=\"yes\" type=\"Elementary\" id=\"reaction02\">\n",
    "            <equation>H2 + O [=] OH + H</equation>\n",
    "            <rateCoeff>\n",
    "                <Kooij>\n",
    "                    <A units=\"cm3/mol/s\">5.06e+4</A>\n",
    "                    <b>2.7</b>\n",
    "                    <E units=\"kJ/mol\">26.3</E>\n",
    "                </Kooij>\n",
    "            </rateCoeff>\n",
    "            <reactants>H2:1 O:1</reactants>\n",
    "            <products>OH:1 H:1</products>\n",
    "        </reaction>\n",
    "\n",
    "    </reactionData>\n",
    "\n",
    "</ctml>\n",
    "```"
   ]
  },
  {
   "cell_type": "markdown",
   "metadata": {
    "slideshow": {
     "slide_type": "subslide"
    }
   },
   "source": [
    "## What is XML?\n",
    "\n",
    "**Note:** Material presented here in taken from the following sources\n",
    "* [https://www.w3schools.com/xml/default.asp](w3schools XML tutorial)\n",
    "* [https://docs.python.org/2/library/xml.etree.elementtree.html](`Python` `xml.etree.ElementTree` documentation)\n",
    "* [https://www.w3.org/TR/2008/REC-xml-20081126/](`XML` Documentation)\n",
    "* [https://en.wikipedia.org/wiki/XML](`XML` Wikipedia Page)\n",
    "\n",
    "Some basics `XML` comments:\n",
    "* XML stands for `Extensible Markup Language`\n",
    "* XML is just information wrapped in tags\n",
    "* It doesn't *do* anything per se\n",
    "* Its format is both machine- and human-readable"
   ]
  },
  {
   "cell_type": "markdown",
   "metadata": {
    "slideshow": {
     "slide_type": "subslide"
    }
   },
   "source": [
    "## What is our business with `XML`?\n",
    "\n",
    "We need to know enough about `XML` to be able to read in chemical reactions to our chemical kinetics library.\n",
    "\n",
    "To accomplish this, we must know a little bit about the structure of `XML` and what `Python` libraries are out there to help us actually do the parsing."
   ]
  },
  {
   "cell_type": "markdown",
   "metadata": {
    "slideshow": {
     "slide_type": "subslide"
    }
   },
   "source": [
    "## Some Basic `XML` Anatomy\n",
    "\n",
    "```xml\n",
    "<!-- This is an XML comment -->\n",
    "<?xml version=\"1.0\" encoding=\"UTF-8\"?> <!-- This is the optional XML prolog -->\n",
    "\n",
    "<dogshelter> <!-- This is the root element -->\n",
    "    <dog id=\"dog1\"> <!-- This is the first child element.\n",
    "                         It has a `id` attribute -->\n",
    "        <name> Cloe </name> <!-- First subchild element -->\n",
    "        <age> 3 </age> <!-- Second subchild element -->\n",
    "        <breed> Border Collie </breed>\n",
    "        <playgroup> Yes </playgroup>\n",
    "    </dog>\n",
    "    <dog id=\"dog2\"> \n",
    "        <name> Karl </name> \n",
    "        <age> 7 </age>\n",
    "        <breed> Beagle </breed>\n",
    "        <playgroup> Yes </playgroup>\n",
    "    </dog>\n",
    "</dogshelter>\n",
    "```\n",
    "\n",
    "Note that all `XML` elements have a closing tag!"
   ]
  },
  {
   "cell_type": "markdown",
   "metadata": {
    "slideshow": {
     "slide_type": "subslide"
    }
   },
   "source": [
    "## Some More Basic `XML` Anatomy\n",
    "See [https://www.w3schools.com/xml/default.asp](w3schools XML tutorial) for a very nice summary of the essential `XML` rules.\n",
    "\n",
    "`XML` elements:  a few things to be aware of:\n",
    "* Elements can contain text, attributes, and other elements\n",
    "* `XML` names are case sensitive and cannot contain spaces\n",
    "* Be consistent in your naming convention\n",
    "\n",
    "`XML` attributes:  a few things to be aware of:\n",
    "* `XML` attributes must be in quotes\n",
    "* There are no rules about when to use elements or attributes\n",
    "  - You could make an attribute an element and it might read better\n",
    "* Rule of thumb:  Data should be stored as elements.  Metadata should be stored as attributes."
   ]
  },
  {
   "cell_type": "markdown",
   "metadata": {
    "slideshow": {
     "slide_type": "slide"
    }
   },
   "source": [
    "## Python and `XML`\n",
    "We will use the `ElementTree` class to read in and parse `XML` input files in `Python`.\n",
    "\n",
    "A very nice tutorial can be found in the [https://docs.python.org/2/library/xml.etree.elementtree.html#module-xml.etree.ElementTree](`Python` `ElementTree` documentation).\n",
    "\n",
    "We'll work with the `shelterdogs.xml` file to start."
   ]
  },
  {
   "cell_type": "code",
   "execution_count": 13,
   "metadata": {
    "slideshow": {
     "slide_type": "fragment"
    }
   },
   "outputs": [
    {
     "name": "stdout",
     "output_type": "stream",
     "text": [
      "<Element 'dogshelter' at 0x106eaad68>\n",
      "dogshelter\n",
      "{}\n"
     ]
    }
   ],
   "source": [
    "import xml.etree.ElementTree as ET\n",
    "tree = ET.parse('shelterdogs.xml')\n",
    "dogshelter = tree.getroot()\n",
    "\n",
    "\n",
    "print(dogshelter)\n",
    "print(dogshelter.tag)\n",
    "print(dogshelter.attrib)"
   ]
  },
  {
   "cell_type": "markdown",
   "metadata": {
    "slideshow": {
     "slide_type": "subslide"
    }
   },
   "source": [
    "### Looping Over Child Elements"
   ]
  },
  {
   "cell_type": "code",
   "execution_count": 14,
   "metadata": {
    "slideshow": {
     "slide_type": "fragment"
    }
   },
   "outputs": [
    {
     "name": "stdout",
     "output_type": "stream",
     "text": [
      "dog {'id': 'dog1'}\n",
      "dog {'id': 'dog2'}\n"
     ]
    }
   ],
   "source": [
    "for child in dogshelter:\n",
    "    print(child.tag, child.attrib)"
   ]
  },
  {
   "cell_type": "markdown",
   "metadata": {
    "slideshow": {
     "slide_type": "subslide"
    }
   },
   "source": [
    "### Accessing Children by Index"
   ]
  },
  {
   "cell_type": "code",
   "execution_count": 15,
   "metadata": {
    "slideshow": {
     "slide_type": "fragment"
    }
   },
   "outputs": [
    {
     "name": "stdout",
     "output_type": "stream",
     "text": [
      " Cloe \n"
     ]
    }
   ],
   "source": [
    "print(dogshelter[0][0].text)"
   ]
  },
  {
   "cell_type": "code",
   "execution_count": 16,
   "metadata": {
    "slideshow": {
     "slide_type": "fragment"
    }
   },
   "outputs": [
    {
     "name": "stdout",
     "output_type": "stream",
     "text": [
      " Karl \n"
     ]
    }
   ],
   "source": [
    "print(dogshelter[1][0].text)"
   ]
  },
  {
   "cell_type": "code",
   "execution_count": 17,
   "metadata": {
    "slideshow": {
     "slide_type": "fragment"
    }
   },
   "outputs": [
    {
     "name": "stdout",
     "output_type": "stream",
     "text": [
      " Border Collie \n"
     ]
    }
   ],
   "source": [
    "print(dogshelter[0][2].text)"
   ]
  },
  {
   "cell_type": "markdown",
   "metadata": {
    "slideshow": {
     "slide_type": "subslide"
    }
   },
   "source": [
    "### The `Element.iter()` Method\n",
    "From the documentation:\n",
    "> Creates a tree iterator with the current element as the root. The iterator iterates over this element and all elements below it, in document (depth first) order. "
   ]
  },
  {
   "cell_type": "code",
   "execution_count": 18,
   "metadata": {
    "slideshow": {
     "slide_type": "fragment"
    }
   },
   "outputs": [
    {
     "name": "stdout",
     "output_type": "stream",
     "text": [
      " 3 \n",
      " 7 \n"
     ]
    }
   ],
   "source": [
    "for age in dogshelter.iter('age'):\n",
    "    print(age.text)"
   ]
  },
  {
   "cell_type": "markdown",
   "metadata": {
    "slideshow": {
     "slide_type": "subslide"
    }
   },
   "source": [
    "### The `Element.findall()` Method\n",
    "From the documentation:\n",
    "> Finds all matching subelements, by tag name or path. Returns a list containing all matching elements in document order."
   ]
  },
  {
   "cell_type": "code",
   "execution_count": 19,
   "metadata": {
    "slideshow": {
     "slide_type": "fragment"
    }
   },
   "outputs": [
    {
     "name": "stdout",
     "output_type": "stream",
     "text": [
      "[<Element 'dog' at 0x106eaa778>, <Element 'dog' at 0x106f3cea8>]\n"
     ]
    }
   ],
   "source": [
    "print(dogshelter.findall('dog'))"
   ]
  },
  {
   "cell_type": "code",
   "execution_count": 20,
   "metadata": {
    "slideshow": {
     "slide_type": "subslide"
    }
   },
   "outputs": [
    {
     "name": "stdout",
     "output_type": "stream",
     "text": [
      "ID:  dog1\n",
      "----------\n",
      "Name:   Cloe \n",
      "Age: 3.0 years\n",
      "Breed:  Border Collie \n",
      "PLAYGROUP\n",
      "\n",
      "::::::::::::::::::::\n",
      "\n",
      "ID:  dog2\n",
      "----------\n",
      "Name:   Karl \n",
      "Age: 7.0 years\n",
      "Breed:  Beagle \n",
      "PLAYGROUP\n",
      "\n",
      "::::::::::::::::::::\n",
      "\n"
     ]
    }
   ],
   "source": [
    "for dog in dogshelter.findall('dog'): # Iterate over each child\n",
    "    print('ID:  {}'.format(dog.get('id'))) # Use the get() method to get the attribute of the child\n",
    "    print('----------')\n",
    "    \n",
    "    print('Name:  {}'.format(dog.find('name').text)) # Use the find() method to find a specific subchild\n",
    "\n",
    "    age = float(dog.find('age').text)\n",
    "    if (dog.find('age').attrib == 'months'):\n",
    "        years = age / 12.0\n",
    "        print('Age: {} years'.format(years))\n",
    "    else:\n",
    "        print('Age: {} years'.format(age))\n",
    "    \n",
    "    print('Breed: {}'.format(dog.find('breed').text))\n",
    "    \n",
    "    if (dog.find('playgroup').text.split()[0] == 'Yes'):\n",
    "        print('PLAYGROUP')\n",
    "    else:\n",
    "        print('NO PLAYGROUP')\n",
    "    print('\\n::::::::::::::::::::\\n')"
   ]
  }
 ],
 "metadata": {
  "celltoolbar": "Slideshow",
  "kernelspec": {
   "display_name": "Python 3",
   "language": "python",
   "name": "python3"
  },
  "language_info": {
   "codemirror_mode": {
    "name": "ipython",
    "version": 3
   },
   "file_extension": ".py",
   "mimetype": "text/x-python",
   "name": "python",
   "nbconvert_exporter": "python",
   "pygments_lexer": "ipython3",
   "version": "3.6.1"
  }
 },
 "nbformat": 4,
 "nbformat_minor": 1
}
