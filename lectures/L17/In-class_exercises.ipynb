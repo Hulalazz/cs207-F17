{
 "cells": [
  {
   "cell_type": "code",
   "execution_count": 1,
   "metadata": {
    "collapsed": true
   },
   "outputs": [],
   "source": [
    "import numpy as np\n",
    "import sqlite3"
   ]
  },
  {
   "cell_type": "code",
   "execution_count": 2,
   "metadata": {
    "collapsed": true
   },
   "outputs": [],
   "source": [
    "conn = sqlite3.connect('test_db.sqlite')"
   ]
  },
  {
   "cell_type": "code",
   "execution_count": 3,
   "metadata": {},
   "outputs": [
    {
     "data": {
      "text/plain": [
       "<sqlite3.Cursor at 0x10fdec2d0>"
      ]
     },
     "execution_count": 3,
     "metadata": {},
     "output_type": "execute_result"
    }
   ],
   "source": [
    "c = conn.cursor()\n",
    "c.execute(\"DROP TABLE IF EXISTS candidates\")\n",
    "c.execute(\"DROP TABLE IF EXISTS contributors\")"
   ]
  },
  {
   "cell_type": "code",
   "execution_count": 4,
   "metadata": {},
   "outputs": [
    {
     "data": {
      "text/plain": [
       "<sqlite3.Cursor at 0x10fdec2d0>"
      ]
     },
     "execution_count": 4,
     "metadata": {},
     "output_type": "execute_result"
    }
   ],
   "source": [
    "c.execute(\"CREATE TABLE candidates (\"\n",
    "          \"id INTEGER PRIMARY KEY NOT NULL, \"\n",
    "          \"first_name TEXT, \"\n",
    "          \"last_name TEXT, \"\n",
    "          \"middle_name TEXT, \"\n",
    "          \"party TEXT NOT NULL)\")"
   ]
  },
  {
   "cell_type": "code",
   "execution_count": 5,
   "metadata": {},
   "outputs": [
    {
     "data": {
      "text/plain": [
       "<sqlite3.Cursor at 0x10fdec2d0>"
      ]
     },
     "execution_count": 5,
     "metadata": {},
     "output_type": "execute_result"
    }
   ],
   "source": [
    "c.execute(\"CREATE TABLE contributors (\"\n",
    "          \"id INTEGER PRIMARY KEY AUTOINCREMENT NOT NULL, \"\n",
    "          \"last_name TEXT, \"\n",
    "          \"first_name TEXT, \"\n",
    "          \"middle_name TEXT, \"\n",
    "          \"street_1 TEXT, \"\n",
    "          \"street_2 TEXT, \"\n",
    "          \"city TEXT, \"\n",
    "          \"state TEXT, \" \n",
    "          \"zip TEXT, \"\n",
    "          \"amount INTEGER, \"\n",
    "          \"date DATETIME, \" \n",
    "          \"candidate_id INTEGER NOT NULL, \"\n",
    "          \"FOREIGN KEY(candidate_id) REFERENCES candidates(id))\")"
   ]
  },
  {
   "cell_type": "code",
   "execution_count": 6,
   "metadata": {
    "collapsed": true
   },
   "outputs": [],
   "source": [
    "conn.commit()"
   ]
  },
  {
   "cell_type": "code",
   "execution_count": 17,
   "metadata": {
    "collapsed": true
   },
   "outputs": [],
   "source": [
    "with open (\"candidates.txt\") as candidates:\n",
    "    next(candidates) # jump over the header\n",
    "    for line in candidates.readlines():\n",
    "        # print(line.strip().split('|'))\n",
    "        cid, first_name, last_name, middle_name, party = line.strip().split('|')\n",
    "        vals_to_insert = (int(cid), first_name, last_name, middle_name, party)\n",
    "        c.execute(\"INSERT INTO candidates \" \n",
    "                  \"(id, first_name, last_name, middle_name, party)\" \n",
    "                  \"VALUES (?, ?, ?, ?, ?)\", vals_to_insert)"
   ]
  },
  {
   "cell_type": "code",
   "execution_count": null,
   "metadata": {
    "collapsed": true
   },
   "outputs": [],
   "source": [
    "c.execute(\"INSERT INTO candidates \" \n",
    "          \"(id, first_name, last_name, middle_name, party)\" \n",
    "          \"VALUES (?, ?, ?, ?, ?)\", \n",
    "          (33, \"Joesph\", \"Biden\", \"D.\", \"D\"))"
   ]
  },
  {
   "cell_type": "code",
   "execution_count": null,
   "metadata": {
    "collapsed": true
   },
   "outputs": [],
   "source": [
    "conn.commit()"
   ]
  },
  {
   "cell_type": "code",
   "execution_count": 18,
   "metadata": {},
   "outputs": [
    {
     "name": "stdout",
     "output_type": "stream",
     "text": [
      "(16, 'Mike', 'Huckabee', '', 'R')\n",
      "(20, 'Barack', 'Obama', '', 'D')\n",
      "(22, 'Rudolph', 'Giuliani', '', 'R')\n",
      "(24, 'Mike', 'Gravel', '', 'D')\n",
      "(26, 'John', 'Edwards', '', 'D')\n",
      "(29, 'Bill', 'Richardson', '', 'D')\n",
      "(30, 'Duncan', 'Hunter', '', 'R')\n",
      "(31, 'Dennis', 'Kucinich', '', 'D')\n",
      "(32, 'Ron', 'Paul', '', 'R')\n",
      "(33, 'Joseph', 'Biden', '', 'D')\n",
      "(34, 'Hillary', 'Clinton', 'R.', 'D')\n",
      "(35, 'Mitt', 'Romney', '', 'R')\n",
      "(36, 'Samuel', 'Brownback', '', 'R')\n",
      "(37, 'John', 'McCain', '', 'R')\n",
      "(38, 'Tom', 'Tancredo', '', 'R')\n",
      "(39, 'Christopher', 'Dodd', 'J.', 'D')\n",
      "(41, 'Fred', 'Thompson', 'D.', 'R')\n"
     ]
    }
   ],
   "source": [
    "for r in c.execute(\"SELECT * FROM candidates\"):\n",
    "    print(r)"
   ]
  },
  {
   "cell_type": "code",
   "execution_count": 2,
   "metadata": {},
   "outputs": [],
   "source": [
    "import sqlite3\n",
    "test_db = sqlite3.connect('testing.db')\n",
    "cursor = test_db.cursor()"
   ]
  },
  {
   "cell_type": "code",
   "execution_count": 3,
   "metadata": {},
   "outputs": [
    {
     "data": {
      "text/plain": [
       "<sqlite3.Cursor at 0x10f442f80>"
      ]
     },
     "execution_count": 3,
     "metadata": {},
     "output_type": "execute_result"
    }
   ],
   "source": [
    "cursor.execute('''CREATE TABLE IF NOT EXISTS suppliers (\n",
    "                  supplier_id INTEGER PRIMARY KEY, \n",
    "                  supplier_name TEXT NOT NULL, \n",
    "                  group_id INTEGER NOT NULL)''')"
   ]
  },
  {
   "cell_type": "code",
   "execution_count": 4,
   "metadata": {},
   "outputs": [
    {
     "data": {
      "text/plain": [
       "<sqlite3.Cursor at 0x10f442f80>"
      ]
     },
     "execution_count": 4,
     "metadata": {},
     "output_type": "execute_result"
    }
   ],
   "source": [
    "cursor.execute('''CREATE TABLE IF NOT EXISTS supplier_groups (\n",
    "                  group_id INTEGER PRIMARY KEY, \n",
    "                  group_name TEXT NOT NULL)''')"
   ]
  },
  {
   "cell_type": "code",
   "execution_count": 5,
   "metadata": {},
   "outputs": [
    {
     "data": {
      "text/plain": [
       "<sqlite3.Cursor at 0x10f442f80>"
      ]
     },
     "execution_count": 5,
     "metadata": {},
     "output_type": "execute_result"
    }
   ],
   "source": [
    "cursor.execute('''DROP TABLE IF EXISTS suppliers''')"
   ]
  },
  {
   "cell_type": "code",
   "execution_count": 6,
   "metadata": {},
   "outputs": [
    {
     "data": {
      "text/plain": [
       "<sqlite3.Cursor at 0x10f442f80>"
      ]
     },
     "execution_count": 6,
     "metadata": {},
     "output_type": "execute_result"
    }
   ],
   "source": [
    "cursor.execute('''CREATE TABLE suppliers (\n",
    "                  supplier_id INTEGER PRIMARY KEY,\n",
    "                  supplier_name TEXT NOT NULL, \n",
    "                  group_id INTEGER NOT NULL, \n",
    "                  FOREIGN KEY (group_id) REFERENCES supplier_groups(group_id))''')"
   ]
  },
  {
   "cell_type": "code",
   "execution_count": 7,
   "metadata": {},
   "outputs": [
    {
     "data": {
      "text/plain": [
       "<sqlite3.Cursor at 0x10f442f80>"
      ]
     },
     "execution_count": 7,
     "metadata": {},
     "output_type": "execute_result"
    }
   ],
   "source": [
    "cursor.execute('''INSERT INTO suppliers (supplier_name, group_id) VALUES ('HP', 2)''')"
   ]
  },
  {
   "cell_type": "code",
   "execution_count": 8,
   "metadata": {},
   "outputs": [
    {
     "data": {
      "text/plain": [
       "<sqlite3.Cursor at 0x10f442f80>"
      ]
     },
     "execution_count": 8,
     "metadata": {},
     "output_type": "execute_result"
    }
   ],
   "source": [
    "cursor.execute('''INSERT INTO suppliers (supplier_name, group_id) VALUES ('ABC Inc.', 4)''')"
   ]
  },
  {
   "cell_type": "code",
   "execution_count": null,
   "metadata": {
    "collapsed": true
   },
   "outputs": [],
   "source": []
  }
 ],
 "metadata": {
  "kernelspec": {
   "display_name": "Python 3",
   "language": "python",
   "name": "python3"
  },
  "language_info": {
   "codemirror_mode": {
    "name": "ipython",
    "version": 3
   },
   "file_extension": ".py",
   "mimetype": "text/x-python",
   "name": "python",
   "nbconvert_exporter": "python",
   "pygments_lexer": "ipython3",
   "version": "3.6.1"
  }
 },
 "nbformat": 4,
 "nbformat_minor": 2
}
