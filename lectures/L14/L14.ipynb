{
 "cells": [
  {
   "cell_type": "markdown",
   "metadata": {
    "slideshow": {
     "slide_type": "slide"
    }
   },
   "source": [
    "# Lecture 14\n",
    "\n",
    "### Wednesday, October 25th 2017"
   ]
  },
  {
   "cell_type": "markdown",
   "metadata": {
    "slideshow": {
     "slide_type": "slide"
    }
   },
   "source": [
    "## Last time:\n",
    "\n",
    "* Iterators and Iterables\n",
    "* Trees, Binary trees, and BSTs\n",
    "\n",
    "## This time:\n",
    "\n",
    "* BST Traversal\n",
    "* Generators\n",
    "* Memory layouts\n",
    "* Heaps?"
   ]
  },
  {
   "cell_type": "markdown",
   "metadata": {
    "slideshow": {
     "slide_type": "slide"
    }
   },
   "source": [
    "# BST Traversal\n",
    "\n",
    "* We've stored our data in a BST\n",
    "* This seemed like a good idea at the time because BSTs have some nice properties\n",
    "* To be able to access/use our data, we need to be able to traverse the tree"
   ]
  },
  {
   "cell_type": "markdown",
   "metadata": {
    "slideshow": {
     "slide_type": "fragment"
    }
   },
   "source": [
    "#### Traversal Choices\n",
    "\n",
    "There are three traversal choices based on an implicit ordering of the tree from left to right:\n",
    "\n",
    "1. In-order: Traverse left-subtree, then current root, then right sub tree\n",
    "2. Post-order: Traverse left subtree, then traverse left subtree, and then current root\n",
    "3. Pre-order: Current root, then traverse left subtree, then traverse right subtree"
   ]
  },
  {
   "cell_type": "markdown",
   "metadata": {
    "slideshow": {
     "slide_type": "fragment"
    }
   },
   "source": [
    "* Traversing a tree means performing some operation\n",
    "* In our examples, the operation will be \"displaying the data\"\n",
    "* However, an operation could be \"deleting files\""
   ]
  },
  {
   "cell_type": "markdown",
   "metadata": {
    "slideshow": {
     "slide_type": "subslide"
    }
   },
   "source": [
    "## Example\n",
    "The tree below represents the data structure $$\\left[150907, 19391, 497963, 135197, 366907, 225977, 6271, 523297, 135937, 178223, 302173\\right].$$\n",
    "\n",
    "![BST_primes](BST_primes.png)\n",
    "\n",
    "Traverse the BST using *in-order*, *post-order*, and *pre-order* traversals.  Write the resulting sorted data structure (as a list is fine)."
   ]
  }
 ],
 "metadata": {
  "celltoolbar": "Slideshow",
  "kernelspec": {
   "display_name": "Python 3",
   "language": "python",
   "name": "python3"
  },
  "language_info": {
   "codemirror_mode": {
    "name": "ipython",
    "version": 3
   },
   "file_extension": ".py",
   "mimetype": "text/x-python",
   "name": "python",
   "nbconvert_exporter": "python",
   "pygments_lexer": "ipython3",
   "version": "3.6.1"
  }
 },
 "nbformat": 4,
 "nbformat_minor": 1
}
