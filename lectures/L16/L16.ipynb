{
 "cells": [
  {
   "cell_type": "markdown",
   "metadata": {
    "slideshow": {
     "slide_type": "slide"
    }
   },
   "source": [
    "# Lecture 16\n",
    "## Wednesday, November 1st 2017\n",
    "\n",
    "### Topics:\n",
    "### * `Python` packages\n",
    "### * Chemical Kinetics --- Reversible Reactions"
   ]
  },
  {
   "cell_type": "markdown",
   "metadata": {
    "slideshow": {
     "slide_type": "slide"
    }
   },
   "source": [
    "# Creating Packages from `Python` Code"
   ]
  },
  {
   "cell_type": "markdown",
   "metadata": {
    "slideshow": {
     "slide_type": "subslide"
    }
   },
   "source": [
    "## Modules and Packages\n",
    "* So far, you have created one module for your project."
   ]
  },
  {
   "cell_type": "markdown",
   "metadata": {
    "slideshow": {
     "slide_type": "fragment"
    }
   },
   "source": [
    "* For larger projects, you will have multiple modules."
   ]
  },
  {
   "cell_type": "markdown",
   "metadata": {
    "slideshow": {
     "slide_type": "fragment"
    }
   },
   "source": [
    "* A collection of multiple modules is called a package."
   ]
  },
  {
   "cell_type": "markdown",
   "metadata": {
    "slideshow": {
     "slide_type": "subslide"
    }
   },
   "source": [
    "### Why multiple modules?\n",
    "Having multiple modules helps with code organization.\n",
    "```\n",
    "physics_code/\n",
    "             __init__.py  \n",
    "             preprocessing/\n",
    "                           __init__.py\n",
    "                           parse_xml_inputs.py\n",
    "                           parse_txt_inputs.py\n",
    "                           ...\n",
    "             solvers/\n",
    "                     __init__.py\n",
    "                     time_integrators.py\n",
    "                     discretization.py\n",
    "                     linear_solvers.py\n",
    "                     ...\n",
    "             postprocessing/\n",
    "                            __init__.py\n",
    "                            write_hdf5.py\n",
    "                            write_txt.py\n",
    "                            ...\n",
    "                            stat_utils/\n",
    "                                       __init__.py\n",
    "                                       ...\n",
    "                            viz/\n",
    "                                __init__.py\n",
    "                                line_plots.py\n",
    "                                ...\n",
    "             tests/\n",
    "                   ...\n",
    "```"
   ]
  },
  {
   "cell_type": "markdown",
   "metadata": {
    "slideshow": {
     "slide_type": "subslide"
    }
   },
   "source": [
    "## Module Recap\n",
    "* Import a module with the `import` statement\n",
    "  ```python\n",
    "     import mymod\n",
    "  ```"
   ]
  },
  {
   "cell_type": "markdown",
   "metadata": {
    "slideshow": {
     "slide_type": "fragment"
    }
   },
   "source": [
    "* Here's how `Python` searches for a module once it's imported:\n",
    "  1. The interpreter searches for a built-in module with that name.\n",
    "  2. If no built-in module exists with that name, then the interpreter searches for the name in the list of directories in the `sys.path` variable.\n",
    "  3. If the requested name can't be found, an `ImportError` exception is thrown."
   ]
  },
  {
   "cell_type": "markdown",
   "metadata": {
    "slideshow": {
     "slide_type": "subslide"
    }
   },
   "source": [
    "## Many Ways to Import\n",
    "Suppose your module contains some methods called `myf1`, `myf2`, and so on.\n",
    "\n",
    "There are a variety of ways to import the module and its methods.  Here are a few along with their uses:\n",
    "\n",
    "```python\n",
    "import mymod as new_name # rename mymod\n",
    "new_name.myf1() # access myf1() method in mymod via new_name\n",
    "```"
   ]
  },
  {
   "cell_type": "markdown",
   "metadata": {
    "slideshow": {
     "slide_type": "fragment"
    }
   },
   "source": [
    "```python\n",
    "from mymod import myf1 # Just import myf1() from mymod\n",
    "myf1() # Direct use\n",
    "```"
   ]
  },
  {
   "cell_type": "markdown",
   "metadata": {
    "slideshow": {
     "slide_type": "fragment"
    }
   },
   "source": [
    "```python\n",
    "from mymod import myf1 as new_f # Import myf1 from mymod and rename\n",
    "new_f() # Direct use\n",
    "```"
   ]
  },
  {
   "cell_type": "markdown",
   "metadata": {
    "slideshow": {
     "slide_type": "fragment"
    }
   },
   "source": [
    "```python\n",
    "from mymod import * # Make all methods and objects in mymod directly accessible!\n",
    "myf2()              # (Except for objects with leading underscores)\n",
    "```"
   ]
  },
  {
   "cell_type": "markdown",
   "metadata": {
    "slideshow": {
     "slide_type": "subslide"
    }
   },
   "source": [
    "## Comments on Importing\n",
    "* Generally a very bad idea to do `from mymod import *`.  Can lead to name clashes!\n",
    "* `from mymod import myf1` is also dangerous if you're not careful."
   ]
  },
  {
   "cell_type": "markdown",
   "metadata": {
    "slideshow": {
     "slide_type": "fragment"
    }
   },
   "source": [
    "* Recommendation:  Just do `import mymod` or `import mymod as new_name` unless you have a very good reason for doing otherwise."
   ]
  },
  {
   "cell_type": "markdown",
   "metadata": {
    "slideshow": {
     "slide_type": "fragment"
    }
   },
   "source": [
    "Where to put the `import` statements?  A common convention is:\n",
    "\n",
    "* After the module's documentation.\n",
    "* First import standard library modules.\n",
    "* Then import their-party library modules.\n",
    "* Then import your own modules."
   ]
  },
  {
   "cell_type": "markdown",
   "metadata": {
    "slideshow": {
     "slide_type": "subslide"
    }
   },
   "source": [
    "## Working with Packages\n",
    "\n",
    "### What is the `__init__.py` file for?\n",
    "\n",
    "### How to use a package"
   ]
  },
  {
   "cell_type": "markdown",
   "metadata": {
    "slideshow": {
     "slide_type": "subslide"
    }
   },
   "source": [
    "## "
   ]
  }
 ],
 "metadata": {
  "celltoolbar": "Slideshow",
  "kernelspec": {
   "display_name": "Python 3",
   "language": "python",
   "name": "python3"
  },
  "language_info": {
   "codemirror_mode": {
    "name": "ipython",
    "version": 3
   },
   "file_extension": ".py",
   "mimetype": "text/x-python",
   "name": "python",
   "nbconvert_exporter": "python",
   "pygments_lexer": "ipython3",
   "version": "3.6.1"
  }
 },
 "nbformat": 4,
 "nbformat_minor": 2
}
