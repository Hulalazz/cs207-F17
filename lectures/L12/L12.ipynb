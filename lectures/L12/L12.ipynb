{
 "cells": [
  {
   "cell_type": "markdown",
   "metadata": {
    "slideshow": {
     "slide_type": "slide"
    }
   },
   "source": [
    "# Lecture 11\n",
    "## Polymorphism\n",
    "\n",
    "### Wednesday, October 11th 2017"
   ]
  },
  {
   "cell_type": "code",
   "execution_count": 1,
   "metadata": {
    "collapsed": true,
    "slideshow": {
     "slide_type": "skip"
    }
   },
   "outputs": [],
   "source": [
    "from IPython.display import HTML"
   ]
  },
  {
   "cell_type": "markdown",
   "metadata": {
    "slideshow": {
     "slide_type": "slide"
    }
   },
   "source": [
    "## OOP Recap\n",
    "* We introduced the idea of objects in Python\n",
    "* We discussed Python classes\n",
    "* We went over **inheritance**\n",
    "* We *briefly* touched on **polymorphism**\n",
    "* We discussed Python dunder methods\n",
    "* We touched on the table implementation for `Python` objects\n",
    "  - This implementation allows us to look for attributes and methods\n",
    "  - If those attributes and methods are not found, then look elsewhere\n",
    "    1. A lookup first happens in the instance table\n",
    "    2. Then the class table (methods)\n",
    "    3. Then somewhere up in the inheritance hierarchy"
   ]
  },
  {
   "cell_type": "markdown",
   "metadata": {
    "slideshow": {
     "slide_type": "slide"
    }
   },
   "source": [
    "# What is Polymorphism?\n",
    "\n",
    "We saw polymorphism last time as the ability to tun the same methods on different objects, either through inheritance or by just defining an ad-hoc protocol (duck typing).\n",
    "\n",
    "The more general definition is:\n",
    "\n",
    "**The ability to write code that looks similar, but operates on different types.**\n",
    "\n",
    "In other words, a single interface serves entities of different types. \n"
   ]
  },
  {
   "cell_type": "markdown",
   "metadata": {
    "slideshow": {
     "slide_type": "subslide"
    }
   },
   "source": [
    "## Polymorphism Summary\n",
    "\n",
    "Python type system is strong and dynamic:\n",
    "\n",
    "- strong: everything has a well-defined type: `type`, `isinstance`\n",
    "- dynamic: type is not explicitly declared, changes with content\n",
    "\n",
    "In classic dynamically typed languages (e.g. Python) most common code is polymorphic. \n",
    "\n",
    "The types of values are restricted only by explicit runtime checks or errors due to failed support for operations at run time. \n",
    "\n",
    "Polymorphism is often combined with inheritance, but does not need to be.\n",
    "\n",
    "One classification of Polymorphism (summarized from Wikipedia) divides it as:\n",
    "- on one axis:  adhoc, parametric, and subtype based\n",
    "- on another axis:  dynamic (run time) and static (compile time)"
   ]
  },
  {
   "cell_type": "markdown",
   "metadata": {
    "slideshow": {
     "slide_type": "subslide"
    }
   },
   "source": [
    "### Static vs Dynamic\n",
    "\n",
    "Dynamic (run-time) polymorphism can be thought of as table based dispatch: that there is, somewhere, atleast conceptually, a table of types, or a linkage of such tables created by inheritance, where implementations are looked up for types.\n",
    "\n",
    "In static polymorphism (e.g. in `C++`) the binding to the appropriate class can be done at compile time."
   ]
  },
  {
   "cell_type": "markdown",
   "metadata": {
    "slideshow": {
     "slide_type": "subslide"
    }
   },
   "source": [
    "### Back to our French Deck Example"
   ]
  },
  {
   "cell_type": "code",
   "execution_count": 10,
   "metadata": {
    "collapsed": true,
    "slideshow": {
     "slide_type": "fragment"
    }
   },
   "outputs": [],
   "source": [
    "import collections\n",
    "Card = collections.namedtuple('Card', ['rank', 'suit'])"
   ]
  },
  {
   "cell_type": "code",
   "execution_count": 11,
   "metadata": {
    "collapsed": true,
    "slideshow": {
     "slide_type": "fragment"
    }
   },
   "outputs": [],
   "source": [
    "class FrenchDeck():\n",
    "    ranks = [str(n) for n in range(2, 11)] + list('JQKA') \n",
    "    suits = 'spades diamonds clubs hearts'.split()\n",
    "    \n",
    "    def __init__(self):\n",
    "        self._cards = [Card(rank, suit) for suit in self.suits for rank in self.ranks]\n",
    "                       \n",
    "    def __len__(self):\n",
    "        return len(self._cards)\n",
    "                       \n",
    "    def __getitem__(self, position): \n",
    "        return self._cards[position]\n",
    "        "
   ]
  },
  {
   "cell_type": "code",
   "execution_count": 12,
   "metadata": {
    "slideshow": {
     "slide_type": "fragment"
    }
   },
   "outputs": [
    {
     "name": "stdout",
     "output_type": "stream",
     "text": [
      "52\n"
     ]
    }
   ],
   "source": [
    "mydeck = FrenchDeck()\n",
    "print(len(mydeck))"
   ]
  },
  {
   "cell_type": "code",
   "execution_count": 13,
   "metadata": {
    "slideshow": {
     "slide_type": "subslide"
    }
   },
   "outputs": [
    {
     "data": {
      "text/plain": [
       "{'_cards': [Card(rank='2', suit='spades'),\n",
       "  Card(rank='3', suit='spades'),\n",
       "  Card(rank='4', suit='spades'),\n",
       "  Card(rank='5', suit='spades'),\n",
       "  Card(rank='6', suit='spades'),\n",
       "  Card(rank='7', suit='spades'),\n",
       "  Card(rank='8', suit='spades'),\n",
       "  Card(rank='9', suit='spades'),\n",
       "  Card(rank='10', suit='spades'),\n",
       "  Card(rank='J', suit='spades'),\n",
       "  Card(rank='Q', suit='spades'),\n",
       "  Card(rank='K', suit='spades'),\n",
       "  Card(rank='A', suit='spades'),\n",
       "  Card(rank='2', suit='diamonds'),\n",
       "  Card(rank='3', suit='diamonds'),\n",
       "  Card(rank='4', suit='diamonds'),\n",
       "  Card(rank='5', suit='diamonds'),\n",
       "  Card(rank='6', suit='diamonds'),\n",
       "  Card(rank='7', suit='diamonds'),\n",
       "  Card(rank='8', suit='diamonds'),\n",
       "  Card(rank='9', suit='diamonds'),\n",
       "  Card(rank='10', suit='diamonds'),\n",
       "  Card(rank='J', suit='diamonds'),\n",
       "  Card(rank='Q', suit='diamonds'),\n",
       "  Card(rank='K', suit='diamonds'),\n",
       "  Card(rank='A', suit='diamonds'),\n",
       "  Card(rank='2', suit='clubs'),\n",
       "  Card(rank='3', suit='clubs'),\n",
       "  Card(rank='4', suit='clubs'),\n",
       "  Card(rank='5', suit='clubs'),\n",
       "  Card(rank='6', suit='clubs'),\n",
       "  Card(rank='7', suit='clubs'),\n",
       "  Card(rank='8', suit='clubs'),\n",
       "  Card(rank='9', suit='clubs'),\n",
       "  Card(rank='10', suit='clubs'),\n",
       "  Card(rank='J', suit='clubs'),\n",
       "  Card(rank='Q', suit='clubs'),\n",
       "  Card(rank='K', suit='clubs'),\n",
       "  Card(rank='A', suit='clubs'),\n",
       "  Card(rank='2', suit='hearts'),\n",
       "  Card(rank='3', suit='hearts'),\n",
       "  Card(rank='4', suit='hearts'),\n",
       "  Card(rank='5', suit='hearts'),\n",
       "  Card(rank='6', suit='hearts'),\n",
       "  Card(rank='7', suit='hearts'),\n",
       "  Card(rank='8', suit='hearts'),\n",
       "  Card(rank='9', suit='hearts'),\n",
       "  Card(rank='10', suit='hearts'),\n",
       "  Card(rank='J', suit='hearts'),\n",
       "  Card(rank='Q', suit='hearts'),\n",
       "  Card(rank='K', suit='hearts'),\n",
       "  Card(rank='A', suit='hearts')]}"
      ]
     },
     "execution_count": 13,
     "metadata": {},
     "output_type": "execute_result"
    }
   ],
   "source": [
    "vars(mydeck)"
   ]
  },
  {
   "cell_type": "code",
   "execution_count": 14,
   "metadata": {
    "slideshow": {
     "slide_type": "subslide"
    }
   },
   "outputs": [
    {
     "data": {
      "text/plain": [
       "['__class__',\n",
       " '__delattr__',\n",
       " '__dict__',\n",
       " '__dir__',\n",
       " '__doc__',\n",
       " '__eq__',\n",
       " '__format__',\n",
       " '__ge__',\n",
       " '__getattribute__',\n",
       " '__getitem__',\n",
       " '__gt__',\n",
       " '__hash__',\n",
       " '__init__',\n",
       " '__init_subclass__',\n",
       " '__le__',\n",
       " '__len__',\n",
       " '__lt__',\n",
       " '__module__',\n",
       " '__ne__',\n",
       " '__new__',\n",
       " '__reduce__',\n",
       " '__reduce_ex__',\n",
       " '__repr__',\n",
       " '__setattr__',\n",
       " '__sizeof__',\n",
       " '__str__',\n",
       " '__subclasshook__',\n",
       " '__weakref__',\n",
       " '_cards',\n",
       " 'ranks',\n",
       " 'suits']"
      ]
     },
     "execution_count": 14,
     "metadata": {},
     "output_type": "execute_result"
    }
   ],
   "source": [
    "dir(mydeck)"
   ]
  },
  {
   "cell_type": "code",
   "execution_count": 15,
   "metadata": {
    "slideshow": {
     "slide_type": "subslide"
    }
   },
   "outputs": [
    {
     "data": {
      "text/plain": [
       "mappingproxy({'__dict__': <attribute '__dict__' of 'FrenchDeck' objects>,\n",
       "              '__doc__': None,\n",
       "              '__getitem__': <function __main__.FrenchDeck.__getitem__>,\n",
       "              '__init__': <function __main__.FrenchDeck.__init__>,\n",
       "              '__len__': <function __main__.FrenchDeck.__len__>,\n",
       "              '__module__': '__main__',\n",
       "              '__weakref__': <attribute '__weakref__' of 'FrenchDeck' objects>,\n",
       "              'ranks': ['2',\n",
       "               '3',\n",
       "               '4',\n",
       "               '5',\n",
       "               '6',\n",
       "               '7',\n",
       "               '8',\n",
       "               '9',\n",
       "               '10',\n",
       "               'J',\n",
       "               'Q',\n",
       "               'K',\n",
       "               'A'],\n",
       "              'suits': ['spades', 'diamonds', 'clubs', 'hearts']})"
      ]
     },
     "execution_count": 15,
     "metadata": {},
     "output_type": "execute_result"
    }
   ],
   "source": [
    "vars(mydeck.__class__)"
   ]
  },
  {
   "cell_type": "code",
   "execution_count": 16,
   "metadata": {
    "slideshow": {
     "slide_type": "subslide"
    }
   },
   "outputs": [
    {
     "data": {
      "text/plain": [
       "['__class__',\n",
       " '__delattr__',\n",
       " '__dict__',\n",
       " '__dir__',\n",
       " '__doc__',\n",
       " '__eq__',\n",
       " '__format__',\n",
       " '__ge__',\n",
       " '__getattribute__',\n",
       " '__getitem__',\n",
       " '__gt__',\n",
       " '__hash__',\n",
       " '__init__',\n",
       " '__init_subclass__',\n",
       " '__le__',\n",
       " '__len__',\n",
       " '__lt__',\n",
       " '__module__',\n",
       " '__ne__',\n",
       " '__new__',\n",
       " '__reduce__',\n",
       " '__reduce_ex__',\n",
       " '__repr__',\n",
       " '__setattr__',\n",
       " '__sizeof__',\n",
       " '__str__',\n",
       " '__subclasshook__',\n",
       " '__weakref__',\n",
       " 'ranks',\n",
       " 'suits']"
      ]
     },
     "execution_count": 16,
     "metadata": {},
     "output_type": "execute_result"
    }
   ],
   "source": [
    "dir(mydeck.__class__)"
   ]
  },
  {
   "cell_type": "markdown",
   "metadata": {
    "slideshow": {
     "slide_type": "slide"
    }
   },
   "source": [
    "## Ad hoc Polymorphism and Object tables\n",
    "\n",
    "**Ad hoc polymorphism** is the notion that different functions are called to accomplish the same task for arguments of different types. \n",
    "\n",
    "This enables the Python Data model with the dunder methods. \n",
    "\n",
    "If you call `len(arg)` or `iter(arg)`, we delegate to `arg`'s `__len__` or `__iter__` by *looking them up in the table (class) corresponding to arg*. \n",
    "\n",
    "**The net effect is that you get different behaviors for different objects.**\n",
    "\n",
    "You are not looking up a table for the operation but instead looking up a table for the object.\n",
    "\n",
    "You can think of this as *single dispatch*: the `len` is dispatched based on the type of the argument by looking up a table for the argument."
   ]
  },
  {
   "cell_type": "markdown",
   "metadata": {
    "slideshow": {
     "slide_type": "subslide"
    }
   },
   "source": [
    "### Duck Typing\n",
    "\n",
    "- We group together the notion that an object responds to such \"messages\" into a protocol\n",
    "- An example is the informal notion that something is a sequence\n",
    "\n",
    "This is **Duck Typing**. "
   ]
  },
  {
   "cell_type": "markdown",
   "metadata": {
    "slideshow": {
     "slide_type": "fragment"
    }
   },
   "source": [
    "Alex Martelli, the coiner of the phrase *Duck Typing*, says:\n",
    "\n",
    ">In Python, this mostly boils down to avoiding the use of isinstance to check the object’s type (not to mention the even worse approach of checking, for example, whether type(foo) is bar—which is rightly anathema as it inhibits even the simplest forms of inheritance!)."
   ]
  },
  {
   "cell_type": "markdown",
   "metadata": {
    "slideshow": {
     "slide_type": "subslide"
    }
   },
   "source": [
    "### Tables for dispatching on functions\n",
    "\n",
    "You can also dispatch a function based on its argument, with no lookup in that argument's table, but rather in a *table that is associated with the function*. This is also *single dispatch*, but from a different table.\n",
    "\n",
    "There is no built in support in Python for this, but you can write it on your own by associating a dictionary with multiple types.\n",
    "\n",
    "See Chapter 7 (Example 7-20 and Example 7-21) in *Fluent Python*."
   ]
  },
  {
   "cell_type": "markdown",
   "metadata": {
    "slideshow": {
     "slide_type": "slide"
    }
   },
   "source": [
    "## Parametric Polymorphism\n",
    "\n",
    "**write functions (or types) that are generic \"over\" other types.**\n",
    "\n",
    "- This means, for example, a stack that can take either an `int` or a `float` or an `animal`. \n",
    "  * Notice that this is generally true in a dynamic language such as `Python` where objects are allocated on the heap and it's the references or labels or ids that are pushed onto the stack. \n",
    "\n",
    "- In C++ this can be done using templates at compile time to optimize the allocation of space."
   ]
  },
  {
   "cell_type": "markdown",
   "metadata": {
    "slideshow": {
     "slide_type": "slide"
    }
   },
   "source": [
    "## Subtype Polymorphism\n",
    "\n",
    "This refers to the polymorphism that we encounter in situations where our language provides subclassing.\n",
    "\n",
    "- In a language such as C++, this refers to the notion that a dog and a cat can make sounds through an animal pointer. \n",
    "- In Python one can use duck typing or inheritance. So subtype polymorphism is then just ad-hoc polymorphism plus an augmented lookup in the inheritance hierarchy."
   ]
  },
  {
   "cell_type": "markdown",
   "metadata": {
    "slideshow": {
     "slide_type": "slide"
    }
   },
   "source": [
    "## Object Tables Again\n",
    "\n",
    "What's this table we keep talking about? We hinted at it earlier when we did:"
   ]
  },
  {
   "cell_type": "code",
   "execution_count": 17,
   "metadata": {
    "slideshow": {
     "slide_type": "fragment"
    }
   },
   "outputs": [
    {
     "data": {
      "text/plain": [
       "mappingproxy({'__dict__': <attribute '__dict__' of 'FrenchDeck' objects>,\n",
       "              '__doc__': None,\n",
       "              '__getitem__': <function __main__.FrenchDeck.__getitem__>,\n",
       "              '__init__': <function __main__.FrenchDeck.__init__>,\n",
       "              '__len__': <function __main__.FrenchDeck.__len__>,\n",
       "              '__module__': '__main__',\n",
       "              '__weakref__': <attribute '__weakref__' of 'FrenchDeck' objects>,\n",
       "              'ranks': ['2',\n",
       "               '3',\n",
       "               '4',\n",
       "               '5',\n",
       "               '6',\n",
       "               '7',\n",
       "               '8',\n",
       "               '9',\n",
       "               '10',\n",
       "               'J',\n",
       "               'Q',\n",
       "               'K',\n",
       "               'A'],\n",
       "              'suits': ['spades', 'diamonds', 'clubs', 'hearts']})"
      ]
     },
     "execution_count": 17,
     "metadata": {},
     "output_type": "execute_result"
    }
   ],
   "source": [
    "mydeck.__class__.__dict__"
   ]
  },
  {
   "cell_type": "markdown",
   "metadata": {
    "slideshow": {
     "slide_type": "subslide"
    }
   },
   "source": [
    "### What if we dont find a method in the table?\n",
    "\n",
    "Either this is a runtime error, or we search in the \"parent\" classes of this class.\n",
    "\n",
    "We can see all such attributes by using `dir`:"
   ]
  },
  {
   "cell_type": "code",
   "execution_count": 18,
   "metadata": {
    "slideshow": {
     "slide_type": "fragment"
    }
   },
   "outputs": [
    {
     "data": {
      "text/plain": [
       "['__class__',\n",
       " '__delattr__',\n",
       " '__dict__',\n",
       " '__dir__',\n",
       " '__doc__',\n",
       " '__eq__',\n",
       " '__format__',\n",
       " '__ge__',\n",
       " '__getattribute__',\n",
       " '__getitem__',\n",
       " '__gt__',\n",
       " '__hash__',\n",
       " '__init__',\n",
       " '__init_subclass__',\n",
       " '__le__',\n",
       " '__len__',\n",
       " '__lt__',\n",
       " '__module__',\n",
       " '__ne__',\n",
       " '__new__',\n",
       " '__reduce__',\n",
       " '__reduce_ex__',\n",
       " '__repr__',\n",
       " '__setattr__',\n",
       " '__sizeof__',\n",
       " '__str__',\n",
       " '__subclasshook__',\n",
       " '__weakref__',\n",
       " '_cards',\n",
       " 'ranks',\n",
       " 'suits']"
      ]
     },
     "execution_count": 18,
     "metadata": {},
     "output_type": "execute_result"
    }
   ],
   "source": [
    "dir(mydeck)"
   ]
  },
  {
   "cell_type": "markdown",
   "metadata": {
    "slideshow": {
     "slide_type": "subslide"
    }
   },
   "source": [
    "This works because it gets sent up:"
   ]
  },
  {
   "cell_type": "code",
   "execution_count": 19,
   "metadata": {
    "slideshow": {
     "slide_type": "fragment"
    }
   },
   "outputs": [
    {
     "data": {
      "text/plain": [
       "270893923"
      ]
     },
     "execution_count": 19,
     "metadata": {},
     "output_type": "execute_result"
    }
   ],
   "source": [
    "hash(mydeck)"
   ]
  },
  {
   "cell_type": "markdown",
   "metadata": {
    "slideshow": {
     "slide_type": "fragment"
    }
   },
   "source": [
    "You can see whats upward of the French Deck by inspecting the [*Method Order Resolution*](https://www.python.org/download/releases/2.3/mro/) using the `mro` method."
   ]
  },
  {
   "cell_type": "code",
   "execution_count": 20,
   "metadata": {
    "slideshow": {
     "slide_type": "fragment"
    }
   },
   "outputs": [
    {
     "data": {
      "text/plain": [
       "[__main__.FrenchDeck, object]"
      ]
     },
     "execution_count": 20,
     "metadata": {},
     "output_type": "execute_result"
    }
   ],
   "source": [
    "FrenchDeck.mro()"
   ]
  }
 ],
 "metadata": {
  "celltoolbar": "Slideshow",
  "kernelspec": {
   "display_name": "Python 3",
   "language": "python",
   "name": "python3"
  },
  "language_info": {
   "codemirror_mode": {
    "name": "ipython",
    "version": 3
   },
   "file_extension": ".py",
   "mimetype": "text/x-python",
   "name": "python",
   "nbconvert_exporter": "python",
   "pygments_lexer": "ipython3",
   "version": "3.6.1"
  }
 },
 "nbformat": 4,
 "nbformat_minor": 1
}
