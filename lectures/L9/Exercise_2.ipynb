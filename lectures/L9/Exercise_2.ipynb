{
 "cells": [
  {
   "cell_type": "markdown",
   "metadata": {},
   "source": [
    "# Exercise 2\n",
    "Write a subclass called `Rcircle` of the superclass `Circle`.\n",
    "\n",
    "####  Requirements\n",
    "* Must inherit from `Circle`\n",
    "* Must have it's own constructor.  The constructor accepts the circle radius supplied by the user as its argument.  That is `__init__(self, r)`.\n",
    "* The circle radius must be set in the constructor\n",
    "* The `Rcircle` subclass must reimplement the `radius` function.  It does not make sense for `Rcircle` to inherit the `radius` method from `Circle` since an instance of `Rcircle` doesn't know anything about the coordinates of the circle."
   ]
  }
 ],
 "metadata": {
  "kernelspec": {
   "display_name": "Python 3",
   "language": "python",
   "name": "python3"
  },
  "language_info": {
   "codemirror_mode": {
    "name": "ipython",
    "version": 3
   },
   "file_extension": ".py",
   "mimetype": "text/x-python",
   "name": "python",
   "nbconvert_exporter": "python",
   "pygments_lexer": "ipython3",
   "version": "3.6.1"
  }
 },
 "nbformat": 4,
 "nbformat_minor": 2
}
