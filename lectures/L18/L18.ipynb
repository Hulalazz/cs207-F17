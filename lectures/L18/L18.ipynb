{
 "cells": [
  {
   "cell_type": "markdown",
   "metadata": {
    "slideshow": {
     "slide_type": "slide"
    }
   },
   "source": [
    "# Lecture 18\n",
    "## Wednesday, November 8th, 2017\n",
    "## Databases with `SQlite`"
   ]
  },
  {
   "cell_type": "markdown",
   "metadata": {
    "slideshow": {
     "slide_type": "subslide"
    }
   },
   "source": [
    "# Exercises\n",
    "Have them do an exercise with the candidates and contributors dataset.\n",
    "\n",
    "They should create a database with that dataset (like in Lecture 17).\n",
    "\n",
    "Then show them a `pandas` command to write pretty tables.\n",
    "\n",
    "Show them some more commands:\n",
    "* Various query commands\n",
    "* Sorting commands\n",
    "* SELECT-COLUMNS and SELECT-DISTINCT\n",
    "* Have them update the tables with new records\n",
    "* AGGREGATE?\n",
    "* DELETE\n",
    "* LIMIT\n",
    "* INDEXES\n",
    "\n",
    "Then get them to do some joins:\n",
    "* implicit join\n",
    "* explicit inner join\n",
    "* outer join\n",
    "* right outer join\n",
    "* full join\n",
    "\n",
    "Might want to explain joins a bit before actually doing them."
   ]
  }
 ],
 "metadata": {
  "celltoolbar": "Slideshow",
  "kernelspec": {
   "display_name": "Python 3",
   "language": "python",
   "name": "python3"
  },
  "language_info": {
   "codemirror_mode": {
    "name": "ipython",
    "version": 3
   },
   "file_extension": ".py",
   "mimetype": "text/x-python",
   "name": "python",
   "nbconvert_exporter": "python",
   "pygments_lexer": "ipython3",
   "version": "3.6.1"
  }
 },
 "nbformat": 4,
 "nbformat_minor": 1
}
