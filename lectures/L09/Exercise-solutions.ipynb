{
 "cells": [
  {
   "cell_type": "markdown",
   "metadata": {},
   "source": [
    "# Exercise 1\n",
    "\n",
    "Write a `Circle` class that accepts $x$ and $y$ coordinates as its arguments.\n",
    "\n",
    "#### Requirements:\n",
    "* You must include the initializer constructor.\n",
    "* Include methods to compute the radius, area, and circumference of the circle.  \n",
    "* Demo your `Circle` class"
   ]
  },
  {
   "cell_type": "code",
   "execution_count": 11,
   "metadata": {
    "collapsed": true
   },
   "outputs": [],
   "source": [
    "class Circle:\n",
    "\n",
    "    import numpy as np\n",
    "    \n",
    "    def __init__(self, x, y):\n",
    "        self.x = x\n",
    "        self.y = y\n",
    "    \n",
    "    def radius(self):\n",
    "        self.R = self.np.sqrt(self.x * self.x + self.y * self.y)\n",
    "    \n",
    "    def area(self):\n",
    "        try:\n",
    "            self.A = self.np.pi * self.R* self.R\n",
    "        except AttributeError:\n",
    "            r = self.np.sqrt(self.x * self.x + self.y * self.y)\n",
    "            self.A = self.np.pi * r * r\n",
    "    \n",
    "    def circum(self):\n",
    "        try:\n",
    "            self.C =  2.0 * self.np.pi * self.R\n",
    "        except AttributeError:\n",
    "            r = self.np.sqrt(self.x * self.x + self.y * self.y)\n",
    "            self.C = 2.0 * self.np.pi * r"
   ]
  },
  {
   "cell_type": "code",
   "execution_count": 13,
   "metadata": {},
   "outputs": [
    {
     "name": "stdout",
     "output_type": "stream",
     "text": [
      "3.60555127546\n"
     ]
    }
   ],
   "source": [
    "C = Circle(2.0, 3.0)\n",
    "C.radius()\n",
    "print(C.R)"
   ]
  },
  {
   "cell_type": "code",
   "execution_count": 10,
   "metadata": {
    "collapsed": true
   },
   "outputs": [],
   "source": [
    "import numpy as np\n",
    "class Circle:\n",
    "    \n",
    "    def __init__(self, x, y):\n",
    "        self.x = x\n",
    "        self.y = y\n",
    "    \n",
    "    def radius(self):\n",
    "        self.R = np.sqrt(self.x * self.x + self.y * self.y)\n",
    "    \n",
    "    def area(self):\n",
    "        try:\n",
    "            self.A = np.pi * self.R* self.R\n",
    "        except AttributeError:\n",
    "            r = np.sqrt(self.x * self.x + self.y * self.y)\n",
    "            self.A = np.pi * r * r\n",
    "    \n",
    "    def circum(self):\n",
    "        try:\n",
    "            self.C =  2.0 * np.pi * self.R\n",
    "        except AttributeError:\n",
    "            r = np.sqrt(self.x * self.x + self.y * self.y)\n",
    "            self.C = 2.0 * np.pi * r"
   ]
  },
  {
   "cell_type": "code",
   "execution_count": 6,
   "metadata": {
    "collapsed": true
   },
   "outputs": [],
   "source": [
    "#import numpy as np\n",
    "C = Circle(2.0, 3.0)"
   ]
  },
  {
   "cell_type": "code",
   "execution_count": 7,
   "metadata": {},
   "outputs": [
    {
     "name": "stdout",
     "output_type": "stream",
     "text": [
      "3.60555127546\n"
     ]
    }
   ],
   "source": [
    "C.radius()\n",
    "print(C.R)"
   ]
  },
  {
   "cell_type": "code",
   "execution_count": 8,
   "metadata": {},
   "outputs": [
    {
     "name": "stdout",
     "output_type": "stream",
     "text": [
      "40.8407044967\n"
     ]
    }
   ],
   "source": [
    "C.area()\n",
    "print(C.A)"
   ]
  },
  {
   "cell_type": "code",
   "execution_count": 9,
   "metadata": {},
   "outputs": [
    {
     "name": "stdout",
     "output_type": "stream",
     "text": [
      "22.6543467983\n"
     ]
    }
   ],
   "source": [
    "C.circum()\n",
    "print(C.C)"
   ]
  },
  {
   "cell_type": "markdown",
   "metadata": {},
   "source": [
    "# Exercise 2\n",
    "Write a subclass called `Rcircle` of the superclass `Circle`.\n",
    "\n",
    "####  Requirements\n",
    "* Must inherit from `Circle`\n",
    "* Must have it's own constructor.  The constructor accepts the circle radius supplied by the user as its argument.  That is `__init__(self, r)`.\n",
    "* The circle radius must be set in the constructor\n",
    "* The `Rcircle` subclass must reimplement the `radius` function.  It does not make sense for `Rcircle` to inherit the `radius` method from `Circle` since an instance of `Rcircle` doesn't know anything about the coordinates of the circle."
   ]
  },
  {
   "cell_type": "code",
   "execution_count": 3,
   "metadata": {
    "collapsed": true
   },
   "outputs": [],
   "source": [
    "class Rcircle(Circle):\n",
    "    def __init__(self, r):\n",
    "        self.R = r\n",
    "    \n",
    "    def radius(self):\n",
    "        self.R = self.R"
   ]
  },
  {
   "cell_type": "code",
   "execution_count": 76,
   "metadata": {
    "collapsed": true
   },
   "outputs": [],
   "source": [
    "S = Rcircle(5.0)"
   ]
  },
  {
   "cell_type": "code",
   "execution_count": 77,
   "metadata": {},
   "outputs": [
    {
     "name": "stdout",
     "output_type": "stream",
     "text": [
      "78.53981633974483\n"
     ]
    }
   ],
   "source": [
    "S.area()\n",
    "print(S.A)"
   ]
  },
  {
   "cell_type": "code",
   "execution_count": 78,
   "metadata": {},
   "outputs": [
    {
     "name": "stdout",
     "output_type": "stream",
     "text": [
      "31.41592653589793\n"
     ]
    }
   ],
   "source": [
    "S.circum()\n",
    "print(S.C)"
   ]
  },
  {
   "cell_type": "markdown",
   "metadata": {},
   "source": [
    "# Exercise 3\n",
    "Include the `__eq__` special method to compare to circles."
   ]
  },
  {
   "cell_type": "code",
   "execution_count": 16,
   "metadata": {
    "collapsed": true
   },
   "outputs": [],
   "source": [
    "class Circles:\n",
    "    import numpy as np\n",
    "    \n",
    "    def __init__(self, x, y):\n",
    "        self.x = x\n",
    "        self.y = y\n",
    "    \n",
    "    def radius(self):\n",
    "        self.R = np.sqrt(self.x * self.x + self.y * self.y)\n",
    "    \n",
    "    def area(self):\n",
    "        try:\n",
    "            self.A = np.pi * self.R* self.R\n",
    "        except AttributeError:\n",
    "            r = np.sqrt(self.x * self.x + self.y * self.y)\n",
    "            self.A = np.pi * r * r\n",
    "    \n",
    "    def circum(self):\n",
    "        try:\n",
    "            self.C =  2.0 * np.pi * self.R\n",
    "        except AttributeError:\n",
    "            r = np.sqrt(self.x * self.x + self.y * self.y)\n",
    "            self.C = 2.0 * np.pi * r\n",
    "    \n",
    "    def __eq__(self, other):\n",
    "        return self.R==other.R\n",
    "\n",
    "class Rcircles(Circles):\n",
    "    def __init__(self, r):\n",
    "        self.R = r\n",
    "    \n",
    "    def radius(self):\n",
    "        self.R = self.R"
   ]
  },
  {
   "cell_type": "code",
   "execution_count": 15,
   "metadata": {},
   "outputs": [
    {
     "name": "stdout",
     "output_type": "stream",
     "text": [
      "2.44948974278 2.44948974278\n"
     ]
    },
    {
     "data": {
      "text/plain": [
       "True"
      ]
     },
     "execution_count": 15,
     "metadata": {},
     "output_type": "execute_result"
    }
   ],
   "source": [
    "import numpy as np\n",
    "C1 = Circles(np.sqrt(3.0), np.sqrt(3.0))\n",
    "C1.radius()\n",
    "C2 = Rcircles(C1.R)\n",
    "C1==C2"
   ]
  }
 ],
 "metadata": {
  "kernelspec": {
   "display_name": "Python 3",
   "language": "python",
   "name": "python3"
  },
  "language_info": {
   "codemirror_mode": {
    "name": "ipython",
    "version": 3
   },
   "file_extension": ".py",
   "mimetype": "text/x-python",
   "name": "python",
   "nbconvert_exporter": "python",
   "pygments_lexer": "ipython3",
   "version": "3.6.1"
  }
 },
 "nbformat": 4,
 "nbformat_minor": 2
}
